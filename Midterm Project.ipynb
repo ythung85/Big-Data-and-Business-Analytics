{
 "cells": [
  {
   "cell_type": "markdown",
   "metadata": {},
   "source": [
    "# 前期處理"
   ]
  },
  {
   "cell_type": "markdown",
   "metadata": {},
   "source": [
    "* 輸入套件"
   ]
  },
  {
   "cell_type": "code",
   "execution_count": 3,
   "metadata": {
    "ExecuteTime": {
     "end_time": "2020-05-07T06:50:26.196004Z",
     "start_time": "2020-05-07T06:50:24.435720Z"
    }
   },
   "outputs": [
    {
     "name": "stdout",
     "output_type": "stream",
     "text": [
      "+---------------------------------------------------------------------+\n",
      "  Welcome to MONPA: Multi-Objective NER POS Annotator for Chinese\n",
      "+---------------------------------------------------------------------+\n",
      "已找到 model檔。Found model file.\n"
     ]
    }
   ],
   "source": [
    "import pandas as pd\n",
    "import numpy as np\n",
    "import monpa\n",
    "import re\n",
    "from datetime import datetime, timedelta\n",
    "from collections import Counter\n",
    "\n",
    "def clearlist(list1):  # 清除無意義字元\n",
    "    for j in range(len(list1)):\n",
    "        for i in range(len(list1[j])):\n",
    "            list1[j][i] = re.sub(r'[\\W\\dA-Za-z]','',list1[j][i])\n",
    "    return(list1)"
   ]
  },
  {
   "cell_type": "markdown",
   "metadata": {},
   "source": [
    "* 資料匯入與初期整理（資料型態、空值、合併資訊）"
   ]
  },
  {
   "cell_type": "code",
   "execution_count": 4,
   "metadata": {
    "ExecuteTime": {
     "end_time": "2020-05-07T06:50:40.381442Z",
     "start_time": "2020-05-07T06:50:33.614780Z"
    }
   },
   "outputs": [],
   "source": [
    "bbs = pd.read_csv(\"bbs.csv\",encoding=\"utf-8\")\n",
    "news = pd.read_csv(\"news.csv\",encoding=\"utf-8\")\n",
    "forum = pd.read_csv(\"forum.csv\",encoding=\"utf-8\")"
   ]
  },
  {
   "cell_type": "code",
   "execution_count": 5,
   "metadata": {
    "ExecuteTime": {
     "end_time": "2020-05-07T06:50:41.022267Z",
     "start_time": "2020-05-07T06:50:40.383640Z"
    }
   },
   "outputs": [],
   "source": [
    "# Drop掉無意義的欄位\n",
    "news.drop(news.columns[[0,1,2,3,6]], axis = 1, inplace = True)\n",
    "bbs.drop(bbs.columns[[0,1,2,3,4,7]], axis = 1, inplace = True)\n",
    "forum.drop(forum.columns[[0,1,2,3,4,7]], axis = 1, inplace = True)\n",
    "\n",
    "# 將post_time欄位的data type由object改為datetime\n",
    "news[\"post_time\"] = pd.to_datetime(news[\"post_time\"], format = \"%Y/%m/%d\")\n",
    "bbs[\"post_time\"] = pd.to_datetime(bbs[\"post_time\"], format = \"%Y/%m/%d\")\n",
    "forum[\"post_time\"] = pd.to_datetime(forum[\"post_time\"], format = \"%Y/%m/%d\")\n",
    "\n",
    "# 把全部的新聞、部落格、與論壇文章合併為單一個dataframe，取名為articles\n",
    "articles = pd.concat([news, bbs, forum])\n",
    "articles[\"post_time\"] = articles[\"post_time\"].dt.date\n",
    "articles.dropna(inplace = True)\n",
    "articles.reset_index(drop = True, inplace = True)\n",
    "\n",
    "# 匯入股價資訊\n",
    "stockprice = pd.read_excel(\"大立光股價2016-2018.xlsx\", sheet_name = \"Total Price\")\n",
    "stockprice[\"年月日\"] = stockprice[\"年月日\"].dt.date"
   ]
  },
  {
   "cell_type": "markdown",
   "metadata": {},
   "source": [
    "# 第一題：各挑選出看漲及看跌的一批文章，從中取出關鍵字列表， 建構向量空間"
   ]
  },
  {
   "cell_type": "markdown",
   "metadata": {},
   "source": [
    "### Step1: 找出股價波動超過±σ的前n日日期，並抓出該些日期中有包含主題的文章"
   ]
  },
  {
   "cell_type": "markdown",
   "metadata": {},
   "source": [
    "* 先挑出σ在3%以上的日期"
   ]
  },
  {
   "cell_type": "code",
   "execution_count": 6,
   "metadata": {
    "ExecuteTime": {
     "end_time": "2020-05-07T06:50:42.247718Z",
     "start_time": "2020-05-07T06:50:42.239237Z"
    }
   },
   "outputs": [],
   "source": [
    "Up_date = stockprice[stockprice[\"波動(漲跌幅)\"] >= 0.03][\"年月日\"].values\n",
    "Down_date = stockprice[stockprice[\"波動(漲跌幅)\"] <= -0.03][\"年月日\"].values"
   ]
  },
  {
   "cell_type": "markdown",
   "metadata": {},
   "source": [
    "* 接著利用上述所查詢到的157個日期，回推該日期前n日內的所有新聞，在這我們取n = 2"
   ]
  },
  {
   "cell_type": "code",
   "execution_count": 7,
   "metadata": {
    "ExecuteTime": {
     "end_time": "2020-05-07T06:50:57.165884Z",
     "start_time": "2020-05-07T06:50:44.111927Z"
    }
   },
   "outputs": [
    {
     "name": "stdout",
     "output_type": "stream",
     "text": [
      "挑選n日內所有文章，n =2\n",
      "上漲文章有：48486篇\n",
      "下跌文章有：49122篇\n"
     ]
    }
   ],
   "source": [
    "# 挑選前n日內所有文章\n",
    "n = int(input(\"挑選n日內所有文章，n =\"))  # 註：當日文章請輸入0\n",
    "Up_publish_date = []\n",
    "Down_publish_date = []\n",
    "\n",
    "for i in range(len(Up_date)):\n",
    "    for j in range(n):\n",
    "        Up_publish_date.append(Up_date[i] - pd.Timedelta(days = j+1))\n",
    "for i in range(len(Down_date)):\n",
    "    for j in range(n):\n",
    "        Down_publish_date.append(Down_date[i] - pd.Timedelta(days = j+1))\n",
    "        \n",
    "Up_title = []  # 上漲文章標題\n",
    "Up_content = []  # 上漲文章內容\n",
    "Down_title = []  # 下跌文章標題\n",
    "Down_content = []  # 下跌文章內容\n",
    "\n",
    "for i in range(len(articles)):\n",
    "    if articles[\"post_time\"][i] in Up_publish_date:\n",
    "        Up_title.append(articles[\"title\"][i])\n",
    "        Up_content.append(articles[\"content\"][i])\n",
    "        \n",
    "    if articles[\"post_time\"][i] in Down_publish_date:\n",
    "        Down_title.append(articles[\"title\"][i])\n",
    "        Down_content.append(articles[\"content\"][i])\n",
    "\n",
    "print(\"上漲文章有：\" + str(len(Up_title)) + \"篇\")\n",
    "print(\"下跌文章有：\" + str(len(Down_title)) + \"篇\")"
   ]
  },
  {
   "cell_type": "markdown",
   "metadata": {
    "ExecuteTime": {
     "end_time": "2020-05-05T11:45:04.369619Z",
     "start_time": "2020-05-05T11:45:04.363696Z"
    }
   },
   "source": [
    "* 抓出大立光漲跌超過2%前兩日裡，與大立光相關的文章"
   ]
  },
  {
   "cell_type": "code",
   "execution_count": 8,
   "metadata": {
    "ExecuteTime": {
     "end_time": "2020-05-07T06:51:03.442832Z",
     "start_time": "2020-05-07T06:50:58.477868Z"
    }
   },
   "outputs": [
    {
     "name": "stdout",
     "output_type": "stream",
     "text": [
      "輸入要尋找的主題大立光\n",
      "關於『大立光』的上漲文章總共出現『1872』篇\n",
      "關於『大立光』的下跌文章總共出現『1664』篇\n"
     ]
    }
   ],
   "source": [
    "target = input(\"輸入要尋找的主題\")  # 輸入要尋找的主題\n",
    "Up_indexlist = []  # 上漲文章index\n",
    "Up_artlist = []  # 所有上漲文章\n",
    "Down_indexlist = []  # 下跌文章index\n",
    "Down_artlist = []  # 所有下跌文章\n",
    "\n",
    "for i in range(len(Up_title)):\n",
    "    count = 0\n",
    "    if target in str(Up_title[i]):\n",
    "        count += 1\n",
    "    elif target in str(Up_content[i]):\n",
    "        count += 1\n",
    "\n",
    "    if count >= 1:\n",
    "        Up_indexlist.append(i)\n",
    "        Up_artlist.append(Up_content[i])  \n",
    "\n",
    "for i in range(len(Down_title)):\n",
    "    count = 0\n",
    "    if target in str(Down_title[i]):\n",
    "        count += 1\n",
    "    elif target in str(Down_content[i]):\n",
    "        count += 1\n",
    "\n",
    "    if count >= 1:\n",
    "        Down_indexlist.append(i)\n",
    "        Down_artlist.append(Down_content[i])  \n",
    "\n",
    "for idx,i in enumerate(Up_artlist):\n",
    "    Up_artlist[idx] = i.split(\"，\")\n",
    "clearlist(Up_artlist)  \n",
    "for idx,i in enumerate(Down_artlist):\n",
    "    Down_artlist[idx] = i.split(\"，\")\n",
    "clearlist(Down_artlist)\n",
    "\n",
    "print(\"關於『\"+target+\"』的上漲文章總共出現『\"+str(len(Up_indexlist))+\"』篇\")\n",
    "print(\"關於『\"+target+\"』的下跌文章總共出現『\"+str(len(Down_indexlist))+\"』篇\")"
   ]
  },
  {
   "cell_type": "markdown",
   "metadata": {},
   "source": [
    "### Step2. 使用monpa切出適當字詞，並計算分析指標"
   ]
  },
  {
   "cell_type": "code",
   "execution_count": 9,
   "metadata": {
    "ExecuteTime": {
     "end_time": "2020-05-07T06:51:10.684597Z",
     "start_time": "2020-05-07T06:51:10.666815Z"
    }
   },
   "outputs": [],
   "source": [
    "def LongCut(long_sentence):  # Monpa切字\n",
    "    seg = []\n",
    "    for item in long_sentence.split(\" \"):\n",
    "        if item != \"\\n\": \n",
    "            seg.extend(monpa.cut(item))\n",
    "    return seg\n",
    "\n",
    "\n",
    "def GramCounter(Content):  # 計算TF、DF\n",
    "    data_list = []\n",
    "    data_monpa = []\n",
    "\n",
    "    for i in range(len(Content)):\n",
    "        data_monpa = []\n",
    "        for j in Content[i]:\n",
    "            data_monpa.extend(LongCut(j))\n",
    "        data_list.append(data_monpa)\n",
    "\n",
    "    m = data_list\n",
    "    c = Counter()\n",
    "    dfcount = Counter()\n",
    "    for i in range(len(m)):\n",
    "        for j in range(len(m[i])):\n",
    "            c[m[i][j]]+=1\n",
    "\n",
    "    for i in range(len(m)):\n",
    "        k = list(set(m[i]))\n",
    "        for j in range(len(k)):\n",
    "            dfcount[k[j]]+=1 \n",
    "\n",
    "    df = pd.DataFrame(dfcount.items(),columns = [\"Term\",\"DF\"])    \n",
    "    dfc = pd.DataFrame(c.items(),columns = [\"Term\",\"TF\"])\n",
    "    final = pd.merge(dfc,df, on=\"Term\")\n",
    "    \n",
    "    return final\n",
    "\n",
    "\n",
    "def OtherInfo(gram): # 計算W(t,f)、idft、TF-IDF\n",
    "    N = 12735  # 全部有關大立光的文章\n",
    "    \n",
    "    WtdList = []   # 算W(t,d)\n",
    "    Wtd = 1 + np.log10(np.array(gram[\"TF\"])) \n",
    "    for i in Wtd:\n",
    "        wtd = float(\"%0.3f\" %i)\n",
    "        WtdList.append(wtd)\n",
    "        \n",
    "    IDFtList = []   # 算 idf(t)\n",
    "    IDFt = np.log10(N / np.array(gram[\"DF\"]))   \n",
    "    for j in IDFt:\n",
    "        idft = float(\"%0.3f\" %j)\n",
    "        IDFtList.append(idft)\n",
    "     \n",
    "    TFIDFList = []   # 算TF-IDF\n",
    "    TFIDF = np.array(WtdList) * np.array(IDFt)\n",
    "    for k in TFIDF:\n",
    "        tfidf = float(\"%0.3f\" %k)\n",
    "        TFIDFList.append(tfidf)\n",
    "    \n",
    "    gram[\"Wtf\"] = WtdList\n",
    "    gram[\"IDFt\"] = IDFtList\n",
    "    gram[\"TF-IDF\"] = TFIDFList\n",
    "    \n",
    "    return gram"
   ]
  },
  {
   "cell_type": "markdown",
   "metadata": {},
   "source": [
    "* 以下四段為切字與計算TF-IDF等指標，運算會消耗約25分鐘，我已經把結果存成兩個csv檔了，可以直接跳到輸入cvs檔的部分繼續運行"
   ]
  },
  {
   "cell_type": "code",
   "execution_count": null,
   "metadata": {
    "ExecuteTime": {
     "end_time": "2020-05-05T14:53:36.439216Z",
     "start_time": "2020-05-05T14:39:46.543392Z"
    }
   },
   "outputs": [],
   "source": [
    "Up_gram = GramCounter(Up_artlist)\n",
    "Down_gram = GramCounter(Down_artlist)"
   ]
  },
  {
   "cell_type": "code",
   "execution_count": 1,
   "metadata": {
    "ExecuteTime": {
     "end_time": "2020-05-05T15:33:29.124196Z",
     "start_time": "2020-05-05T15:33:29.032138Z"
    }
   },
   "outputs": [
    {
     "ename": "NameError",
     "evalue": "name 'OtherInfo' is not defined",
     "output_type": "error",
     "traceback": [
      "\u001b[0;31m---------------------------------------------------------------------------\u001b[0m",
      "\u001b[0;31mNameError\u001b[0m                                 Traceback (most recent call last)",
      "\u001b[0;32m<ipython-input-1-48fbb6e65ad4>\u001b[0m in \u001b[0;36m<module>\u001b[0;34m\u001b[0m\n\u001b[0;32m----> 1\u001b[0;31m \u001b[0mUp_gram\u001b[0m \u001b[0;34m=\u001b[0m \u001b[0mOtherInfo\u001b[0m\u001b[0;34m(\u001b[0m\u001b[0mUp_gram\u001b[0m\u001b[0;34m)\u001b[0m\u001b[0;34m\u001b[0m\u001b[0;34m\u001b[0m\u001b[0m\n\u001b[0m\u001b[1;32m      2\u001b[0m \u001b[0mUp_gram\u001b[0m\u001b[0;34m\u001b[0m\u001b[0;34m\u001b[0m\u001b[0m\n",
      "\u001b[0;31mNameError\u001b[0m: name 'OtherInfo' is not defined"
     ]
    }
   ],
   "source": [
    "Up_gram = OtherInfo(Up_gram)\n",
    "Up_gram"
   ]
  },
  {
   "cell_type": "code",
   "execution_count": 40,
   "metadata": {
    "ExecuteTime": {
     "end_time": "2020-05-05T15:34:03.824479Z",
     "start_time": "2020-05-05T15:34:03.755957Z"
    }
   },
   "outputs": [
    {
     "data": {
      "text/html": [
       "<div>\n",
       "<style scoped>\n",
       "    .dataframe tbody tr th:only-of-type {\n",
       "        vertical-align: middle;\n",
       "    }\n",
       "\n",
       "    .dataframe tbody tr th {\n",
       "        vertical-align: top;\n",
       "    }\n",
       "\n",
       "    .dataframe thead th {\n",
       "        text-align: right;\n",
       "    }\n",
       "</style>\n",
       "<table border=\"1\" class=\"dataframe\">\n",
       "  <thead>\n",
       "    <tr style=\"text-align: right;\">\n",
       "      <th></th>\n",
       "      <th>Term</th>\n",
       "      <th>TF</th>\n",
       "      <th>DF</th>\n",
       "      <th>Wtf</th>\n",
       "      <th>IDFt</th>\n",
       "      <th>TF-IDF</th>\n",
       "    </tr>\n",
       "  </thead>\n",
       "  <tbody>\n",
       "    <tr>\n",
       "      <th>0</th>\n",
       "      <td>台積電</td>\n",
       "      <td>1494</td>\n",
       "      <td>882</td>\n",
       "      <td>4.174</td>\n",
       "      <td>1.160</td>\n",
       "      <td>4.840</td>\n",
       "    </tr>\n",
       "    <tr>\n",
       "      <th>1</th>\n",
       "      <td>奈米</td>\n",
       "      <td>74</td>\n",
       "      <td>40</td>\n",
       "      <td>2.869</td>\n",
       "      <td>2.503</td>\n",
       "      <td>7.181</td>\n",
       "    </tr>\n",
       "    <tr>\n",
       "      <th>2</th>\n",
       "      <td>完勝</td>\n",
       "      <td>1</td>\n",
       "      <td>1</td>\n",
       "      <td>1.000</td>\n",
       "      <td>4.105</td>\n",
       "      <td>4.105</td>\n",
       "    </tr>\n",
       "    <tr>\n",
       "      <th>3</th>\n",
       "      <td>三星</td>\n",
       "      <td>111</td>\n",
       "      <td>56</td>\n",
       "      <td>3.045</td>\n",
       "      <td>2.357</td>\n",
       "      <td>7.176</td>\n",
       "    </tr>\n",
       "    <tr>\n",
       "      <th>4</th>\n",
       "      <td>製程</td>\n",
       "      <td>57</td>\n",
       "      <td>37</td>\n",
       "      <td>2.756</td>\n",
       "      <td>2.537</td>\n",
       "      <td>6.991</td>\n",
       "    </tr>\n",
       "    <tr>\n",
       "      <th>5</th>\n",
       "      <td>強壓</td>\n",
       "      <td>1</td>\n",
       "      <td>1</td>\n",
       "      <td>1.000</td>\n",
       "      <td>4.105</td>\n",
       "      <td>4.105</td>\n",
       "    </tr>\n",
       "    <tr>\n",
       "      <th>6</th>\n",
       "      <td>對手</td>\n",
       "      <td>25</td>\n",
       "      <td>21</td>\n",
       "      <td>2.398</td>\n",
       "      <td>2.783</td>\n",
       "      <td>6.673</td>\n",
       "    </tr>\n",
       "    <tr>\n",
       "      <th>7</th>\n",
       "      <td>的</td>\n",
       "      <td>8234</td>\n",
       "      <td>1369</td>\n",
       "      <td>4.916</td>\n",
       "      <td>0.969</td>\n",
       "      <td>4.762</td>\n",
       "    </tr>\n",
       "    <tr>\n",
       "      <th>8</th>\n",
       "      <td>蘋果</td>\n",
       "      <td>1438</td>\n",
       "      <td>616</td>\n",
       "      <td>4.158</td>\n",
       "      <td>1.315</td>\n",
       "      <td>5.470</td>\n",
       "    </tr>\n",
       "    <tr>\n",
       "      <th>9</th>\n",
       "      <td>代工</td>\n",
       "      <td>71</td>\n",
       "      <td>60</td>\n",
       "      <td>2.851</td>\n",
       "      <td>2.327</td>\n",
       "      <td>6.634</td>\n",
       "    </tr>\n",
       "    <tr>\n",
       "      <th>10</th>\n",
       "      <td>大單</td>\n",
       "      <td>19</td>\n",
       "      <td>18</td>\n",
       "      <td>2.279</td>\n",
       "      <td>2.850</td>\n",
       "      <td>6.495</td>\n",
       "    </tr>\n",
       "    <tr>\n",
       "      <th>11</th>\n",
       "      <td>可望</td>\n",
       "      <td>623</td>\n",
       "      <td>402</td>\n",
       "      <td>3.794</td>\n",
       "      <td>1.501</td>\n",
       "      <td>5.694</td>\n",
       "    </tr>\n",
       "    <tr>\n",
       "      <th>12</th>\n",
       "      <td>入袋</td>\n",
       "      <td>2</td>\n",
       "      <td>2</td>\n",
       "      <td>1.301</td>\n",
       "      <td>3.804</td>\n",
       "      <td>4.949</td>\n",
       "    </tr>\n",
       "    <tr>\n",
       "      <th>13</th>\n",
       "      <td>暫緩</td>\n",
       "      <td>47</td>\n",
       "      <td>32</td>\n",
       "      <td>2.672</td>\n",
       "      <td>2.600</td>\n",
       "      <td>6.947</td>\n",
       "    </tr>\n",
       "    <tr>\n",
       "      <th>14</th>\n",
       "      <td>擴廠</td>\n",
       "      <td>14</td>\n",
       "      <td>11</td>\n",
       "      <td>2.146</td>\n",
       "      <td>3.064</td>\n",
       "      <td>6.574</td>\n",
       "    </tr>\n",
       "    <tr>\n",
       "      <th>15</th>\n",
       "      <td>腳步</td>\n",
       "      <td>31</td>\n",
       "      <td>28</td>\n",
       "      <td>2.491</td>\n",
       "      <td>2.658</td>\n",
       "      <td>6.621</td>\n",
       "    </tr>\n",
       "    <tr>\n",
       "      <th>16</th>\n",
       "      <td>台北</td>\n",
       "      <td>457</td>\n",
       "      <td>426</td>\n",
       "      <td>3.660</td>\n",
       "      <td>1.476</td>\n",
       "      <td>5.401</td>\n",
       "    </tr>\n",
       "    <tr>\n",
       "      <th>17</th>\n",
       "      <td>車展</td>\n",
       "      <td>2</td>\n",
       "      <td>2</td>\n",
       "      <td>1.301</td>\n",
       "      <td>3.804</td>\n",
       "      <td>4.949</td>\n",
       "    </tr>\n",
       "    <tr>\n",
       "      <th>18</th>\n",
       "      <td>舊換</td>\n",
       "      <td>1</td>\n",
       "      <td>1</td>\n",
       "      <td>1.000</td>\n",
       "      <td>4.105</td>\n",
       "      <td>4.105</td>\n",
       "    </tr>\n",
       "    <tr>\n",
       "      <th>19</th>\n",
       "      <td>新</td>\n",
       "      <td>1212</td>\n",
       "      <td>674</td>\n",
       "      <td>4.084</td>\n",
       "      <td>1.276</td>\n",
       "      <td>5.213</td>\n",
       "    </tr>\n",
       "    <tr>\n",
       "      <th>20</th>\n",
       "      <td>訂單</td>\n",
       "      <td>241</td>\n",
       "      <td>164</td>\n",
       "      <td>3.382</td>\n",
       "      <td>1.890</td>\n",
       "      <td>6.393</td>\n",
       "    </tr>\n",
       "    <tr>\n",
       "      <th>21</th>\n",
       "      <td>出籠</td>\n",
       "      <td>83</td>\n",
       "      <td>76</td>\n",
       "      <td>2.919</td>\n",
       "      <td>2.224</td>\n",
       "      <td>6.492</td>\n",
       "    </tr>\n",
       "    <tr>\n",
       "      <th>22</th>\n",
       "      <td>九</td>\n",
       "      <td>18</td>\n",
       "      <td>18</td>\n",
       "      <td>2.255</td>\n",
       "      <td>2.850</td>\n",
       "      <td>6.426</td>\n",
       "    </tr>\n",
       "    <tr>\n",
       "      <th>23</th>\n",
       "      <td>天</td>\n",
       "      <td>272</td>\n",
       "      <td>213</td>\n",
       "      <td>3.435</td>\n",
       "      <td>1.777</td>\n",
       "      <td>6.103</td>\n",
       "    </tr>\n",
       "    <tr>\n",
       "      <th>24</th>\n",
       "      <td>展期</td>\n",
       "      <td>1</td>\n",
       "      <td>1</td>\n",
       "      <td>1.000</td>\n",
       "      <td>4.105</td>\n",
       "      <td>4.105</td>\n",
       "    </tr>\n",
       "    <tr>\n",
       "      <th>25</th>\n",
       "      <td>成果</td>\n",
       "      <td>16</td>\n",
       "      <td>16</td>\n",
       "      <td>2.204</td>\n",
       "      <td>2.901</td>\n",
       "      <td>6.394</td>\n",
       "    </tr>\n",
       "    <tr>\n",
       "      <th>26</th>\n",
       "      <td>豐碩</td>\n",
       "      <td>7</td>\n",
       "      <td>7</td>\n",
       "      <td>1.845</td>\n",
       "      <td>3.260</td>\n",
       "      <td>6.015</td>\n",
       "    </tr>\n",
       "    <tr>\n",
       "      <th>27</th>\n",
       "      <td>政策</td>\n",
       "      <td>230</td>\n",
       "      <td>177</td>\n",
       "      <td>3.362</td>\n",
       "      <td>1.857</td>\n",
       "      <td>6.243</td>\n",
       "    </tr>\n",
       "    <tr>\n",
       "      <th>28</th>\n",
       "      <td>利多</td>\n",
       "      <td>181</td>\n",
       "      <td>149</td>\n",
       "      <td>3.258</td>\n",
       "      <td>1.932</td>\n",
       "      <td>6.294</td>\n",
       "    </tr>\n",
       "    <tr>\n",
       "      <th>29</th>\n",
       "      <td>發酵</td>\n",
       "      <td>52</td>\n",
       "      <td>49</td>\n",
       "      <td>2.716</td>\n",
       "      <td>2.415</td>\n",
       "      <td>6.559</td>\n",
       "    </tr>\n",
       "    <tr>\n",
       "      <th>...</th>\n",
       "      <td>...</td>\n",
       "      <td>...</td>\n",
       "      <td>...</td>\n",
       "      <td>...</td>\n",
       "      <td>...</td>\n",
       "      <td>...</td>\n",
       "    </tr>\n",
       "    <tr>\n",
       "      <th>24176</th>\n",
       "      <td>划不來</td>\n",
       "      <td>1</td>\n",
       "      <td>1</td>\n",
       "      <td>1.000</td>\n",
       "      <td>4.105</td>\n",
       "      <td>4.105</td>\n",
       "    </tr>\n",
       "    <tr>\n",
       "      <th>24177</th>\n",
       "      <td>時好時</td>\n",
       "      <td>1</td>\n",
       "      <td>1</td>\n",
       "      <td>1.000</td>\n",
       "      <td>4.105</td>\n",
       "      <td>4.105</td>\n",
       "    </tr>\n",
       "    <tr>\n",
       "      <th>24178</th>\n",
       "      <td>壞像</td>\n",
       "      <td>1</td>\n",
       "      <td>1</td>\n",
       "      <td>1.000</td>\n",
       "      <td>4.105</td>\n",
       "      <td>4.105</td>\n",
       "    </tr>\n",
       "    <tr>\n",
       "      <th>24179</th>\n",
       "      <td>子元</td>\n",
       "      <td>2</td>\n",
       "      <td>1</td>\n",
       "      <td>1.301</td>\n",
       "      <td>4.105</td>\n",
       "      <td>5.341</td>\n",
       "    </tr>\n",
       "    <tr>\n",
       "      <th>24180</th>\n",
       "      <td>賽跑</td>\n",
       "      <td>1</td>\n",
       "      <td>1</td>\n",
       "      <td>1.000</td>\n",
       "      <td>4.105</td>\n",
       "      <td>4.105</td>\n",
       "    </tr>\n",
       "    <tr>\n",
       "      <th>24181</th>\n",
       "      <td>兩幾</td>\n",
       "      <td>1</td>\n",
       "      <td>1</td>\n",
       "      <td>1.000</td>\n",
       "      <td>4.105</td>\n",
       "      <td>4.105</td>\n",
       "    </tr>\n",
       "    <tr>\n",
       "      <th>24182</th>\n",
       "      <td>少見絕</td>\n",
       "      <td>1</td>\n",
       "      <td>1</td>\n",
       "      <td>1.000</td>\n",
       "      <td>4.105</td>\n",
       "      <td>4.105</td>\n",
       "    </tr>\n",
       "    <tr>\n",
       "      <th>24183</th>\n",
       "      <td>一往</td>\n",
       "      <td>1</td>\n",
       "      <td>1</td>\n",
       "      <td>1.000</td>\n",
       "      <td>4.105</td>\n",
       "      <td>4.105</td>\n",
       "    </tr>\n",
       "    <tr>\n",
       "      <th>24184</th>\n",
       "      <td>傳教士</td>\n",
       "      <td>1</td>\n",
       "      <td>1</td>\n",
       "      <td>1.000</td>\n",
       "      <td>4.105</td>\n",
       "      <td>4.105</td>\n",
       "    </tr>\n",
       "    <tr>\n",
       "      <th>24185</th>\n",
       "      <td>債權人</td>\n",
       "      <td>1</td>\n",
       "      <td>1</td>\n",
       "      <td>1.000</td>\n",
       "      <td>4.105</td>\n",
       "      <td>4.105</td>\n",
       "    </tr>\n",
       "    <tr>\n",
       "      <th>24186</th>\n",
       "      <td>連累</td>\n",
       "      <td>1</td>\n",
       "      <td>1</td>\n",
       "      <td>1.000</td>\n",
       "      <td>4.105</td>\n",
       "      <td>4.105</td>\n",
       "    </tr>\n",
       "    <tr>\n",
       "      <th>24187</th>\n",
       "      <td>陪葬</td>\n",
       "      <td>1</td>\n",
       "      <td>1</td>\n",
       "      <td>1.000</td>\n",
       "      <td>4.105</td>\n",
       "      <td>4.105</td>\n",
       "    </tr>\n",
       "    <tr>\n",
       "      <th>24188</th>\n",
       "      <td>摧枯</td>\n",
       "      <td>1</td>\n",
       "      <td>1</td>\n",
       "      <td>1.000</td>\n",
       "      <td>4.105</td>\n",
       "      <td>4.105</td>\n",
       "    </tr>\n",
       "    <tr>\n",
       "      <th>24189</th>\n",
       "      <td>拉朽</td>\n",
       "      <td>1</td>\n",
       "      <td>1</td>\n",
       "      <td>1.000</td>\n",
       "      <td>4.105</td>\n",
       "      <td>4.105</td>\n",
       "    </tr>\n",
       "    <tr>\n",
       "      <th>24190</th>\n",
       "      <td>失火</td>\n",
       "      <td>1</td>\n",
       "      <td>1</td>\n",
       "      <td>1.000</td>\n",
       "      <td>4.105</td>\n",
       "      <td>4.105</td>\n",
       "    </tr>\n",
       "    <tr>\n",
       "      <th>24191</th>\n",
       "      <td>殃</td>\n",
       "      <td>1</td>\n",
       "      <td>1</td>\n",
       "      <td>1.000</td>\n",
       "      <td>4.105</td>\n",
       "      <td>4.105</td>\n",
       "    </tr>\n",
       "    <tr>\n",
       "      <th>24192</th>\n",
       "      <td>池魚</td>\n",
       "      <td>1</td>\n",
       "      <td>1</td>\n",
       "      <td>1.000</td>\n",
       "      <td>4.105</td>\n",
       "      <td>4.105</td>\n",
       "    </tr>\n",
       "    <tr>\n",
       "      <th>24193</th>\n",
       "      <td>閃失</td>\n",
       "      <td>1</td>\n",
       "      <td>1</td>\n",
       "      <td>1.000</td>\n",
       "      <td>4.105</td>\n",
       "      <td>4.105</td>\n",
       "    </tr>\n",
       "    <tr>\n",
       "      <th>24194</th>\n",
       "      <td>果子</td>\n",
       "      <td>1</td>\n",
       "      <td>1</td>\n",
       "      <td>1.000</td>\n",
       "      <td>4.105</td>\n",
       "      <td>4.105</td>\n",
       "    </tr>\n",
       "    <tr>\n",
       "      <th>24195</th>\n",
       "      <td>名詞</td>\n",
       "      <td>1</td>\n",
       "      <td>1</td>\n",
       "      <td>1.000</td>\n",
       "      <td>4.105</td>\n",
       "      <td>4.105</td>\n",
       "    </tr>\n",
       "    <tr>\n",
       "      <th>24196</th>\n",
       "      <td>搜到</td>\n",
       "      <td>1</td>\n",
       "      <td>1</td>\n",
       "      <td>1.000</td>\n",
       "      <td>4.105</td>\n",
       "      <td>4.105</td>\n",
       "    </tr>\n",
       "    <tr>\n",
       "      <th>24197</th>\n",
       "      <td>通俗</td>\n",
       "      <td>1</td>\n",
       "      <td>1</td>\n",
       "      <td>1.000</td>\n",
       "      <td>4.105</td>\n",
       "      <td>4.105</td>\n",
       "    </tr>\n",
       "    <tr>\n",
       "      <th>24198</th>\n",
       "      <td>實用</td>\n",
       "      <td>2</td>\n",
       "      <td>1</td>\n",
       "      <td>1.301</td>\n",
       "      <td>4.105</td>\n",
       "      <td>5.341</td>\n",
       "    </tr>\n",
       "    <tr>\n",
       "      <th>24199</th>\n",
       "      <td>懶得</td>\n",
       "      <td>1</td>\n",
       "      <td>1</td>\n",
       "      <td>1.000</td>\n",
       "      <td>4.105</td>\n",
       "      <td>4.105</td>\n",
       "    </tr>\n",
       "    <tr>\n",
       "      <th>24200</th>\n",
       "      <td>任性</td>\n",
       "      <td>1</td>\n",
       "      <td>1</td>\n",
       "      <td>1.000</td>\n",
       "      <td>4.105</td>\n",
       "      <td>4.105</td>\n",
       "    </tr>\n",
       "    <tr>\n",
       "      <th>24201</th>\n",
       "      <td>沒轍</td>\n",
       "      <td>1</td>\n",
       "      <td>1</td>\n",
       "      <td>1.000</td>\n",
       "      <td>4.105</td>\n",
       "      <td>4.105</td>\n",
       "    </tr>\n",
       "    <tr>\n",
       "      <th>24202</th>\n",
       "      <td>六百</td>\n",
       "      <td>1</td>\n",
       "      <td>1</td>\n",
       "      <td>1.000</td>\n",
       "      <td>4.105</td>\n",
       "      <td>4.105</td>\n",
       "    </tr>\n",
       "    <tr>\n",
       "      <th>24203</th>\n",
       "      <td>小小紅</td>\n",
       "      <td>1</td>\n",
       "      <td>1</td>\n",
       "      <td>1.000</td>\n",
       "      <td>4.105</td>\n",
       "      <td>4.105</td>\n",
       "    </tr>\n",
       "    <tr>\n",
       "      <th>24204</th>\n",
       "      <td>善</td>\n",
       "      <td>1</td>\n",
       "      <td>1</td>\n",
       "      <td>1.000</td>\n",
       "      <td>4.105</td>\n",
       "      <td>4.105</td>\n",
       "    </tr>\n",
       "    <tr>\n",
       "      <th>24205</th>\n",
       "      <td>漲逾下</td>\n",
       "      <td>1</td>\n",
       "      <td>1</td>\n",
       "      <td>1.000</td>\n",
       "      <td>4.105</td>\n",
       "      <td>4.105</td>\n",
       "    </tr>\n",
       "  </tbody>\n",
       "</table>\n",
       "<p>24206 rows × 6 columns</p>\n",
       "</div>"
      ],
      "text/plain": [
       "      Term    TF    DF    Wtf   IDFt  TF-IDF\n",
       "0      台積電  1494   882  4.174  1.160   4.840\n",
       "1       奈米    74    40  2.869  2.503   7.181\n",
       "2       完勝     1     1  1.000  4.105   4.105\n",
       "3       三星   111    56  3.045  2.357   7.176\n",
       "4       製程    57    37  2.756  2.537   6.991\n",
       "5       強壓     1     1  1.000  4.105   4.105\n",
       "6       對手    25    21  2.398  2.783   6.673\n",
       "7        的  8234  1369  4.916  0.969   4.762\n",
       "8       蘋果  1438   616  4.158  1.315   5.470\n",
       "9       代工    71    60  2.851  2.327   6.634\n",
       "10      大單    19    18  2.279  2.850   6.495\n",
       "11      可望   623   402  3.794  1.501   5.694\n",
       "12      入袋     2     2  1.301  3.804   4.949\n",
       "13      暫緩    47    32  2.672  2.600   6.947\n",
       "14      擴廠    14    11  2.146  3.064   6.574\n",
       "15      腳步    31    28  2.491  2.658   6.621\n",
       "16      台北   457   426  3.660  1.476   5.401\n",
       "17      車展     2     2  1.301  3.804   4.949\n",
       "18      舊換     1     1  1.000  4.105   4.105\n",
       "19       新  1212   674  4.084  1.276   5.213\n",
       "20      訂單   241   164  3.382  1.890   6.393\n",
       "21      出籠    83    76  2.919  2.224   6.492\n",
       "22       九    18    18  2.255  2.850   6.426\n",
       "23       天   272   213  3.435  1.777   6.103\n",
       "24      展期     1     1  1.000  4.105   4.105\n",
       "25      成果    16    16  2.204  2.901   6.394\n",
       "26      豐碩     7     7  1.845  3.260   6.015\n",
       "27      政策   230   177  3.362  1.857   6.243\n",
       "28      利多   181   149  3.258  1.932   6.294\n",
       "29      發酵    52    49  2.716  2.415   6.559\n",
       "...    ...   ...   ...    ...    ...     ...\n",
       "24176  划不來     1     1  1.000  4.105   4.105\n",
       "24177  時好時     1     1  1.000  4.105   4.105\n",
       "24178   壞像     1     1  1.000  4.105   4.105\n",
       "24179   子元     2     1  1.301  4.105   5.341\n",
       "24180   賽跑     1     1  1.000  4.105   4.105\n",
       "24181   兩幾     1     1  1.000  4.105   4.105\n",
       "24182  少見絕     1     1  1.000  4.105   4.105\n",
       "24183   一往     1     1  1.000  4.105   4.105\n",
       "24184  傳教士     1     1  1.000  4.105   4.105\n",
       "24185  債權人     1     1  1.000  4.105   4.105\n",
       "24186   連累     1     1  1.000  4.105   4.105\n",
       "24187   陪葬     1     1  1.000  4.105   4.105\n",
       "24188   摧枯     1     1  1.000  4.105   4.105\n",
       "24189   拉朽     1     1  1.000  4.105   4.105\n",
       "24190   失火     1     1  1.000  4.105   4.105\n",
       "24191    殃     1     1  1.000  4.105   4.105\n",
       "24192   池魚     1     1  1.000  4.105   4.105\n",
       "24193   閃失     1     1  1.000  4.105   4.105\n",
       "24194   果子     1     1  1.000  4.105   4.105\n",
       "24195   名詞     1     1  1.000  4.105   4.105\n",
       "24196   搜到     1     1  1.000  4.105   4.105\n",
       "24197   通俗     1     1  1.000  4.105   4.105\n",
       "24198   實用     2     1  1.301  4.105   5.341\n",
       "24199   懶得     1     1  1.000  4.105   4.105\n",
       "24200   任性     1     1  1.000  4.105   4.105\n",
       "24201   沒轍     1     1  1.000  4.105   4.105\n",
       "24202   六百     1     1  1.000  4.105   4.105\n",
       "24203  小小紅     1     1  1.000  4.105   4.105\n",
       "24204    善     1     1  1.000  4.105   4.105\n",
       "24205  漲逾下     1     1  1.000  4.105   4.105\n",
       "\n",
       "[24206 rows x 6 columns]"
      ]
     },
     "execution_count": 40,
     "metadata": {},
     "output_type": "execute_result"
    }
   ],
   "source": [
    "Down_gram = OtherInfo(Down_gram)\n",
    "Down_gram"
   ]
  },
  {
   "cell_type": "markdown",
   "metadata": {},
   "source": [
    "* 先存為Excel檔，方便未來存取"
   ]
  },
  {
   "cell_type": "code",
   "execution_count": 41,
   "metadata": {
    "ExecuteTime": {
     "end_time": "2020-05-05T15:35:35.702597Z",
     "start_time": "2020-05-05T15:35:30.830120Z"
    }
   },
   "outputs": [],
   "source": [
    "# Up_gram.to_excel(r\"monpa上漲字串.xlsx\",index = False,header = True,encoding=\"utf-8\")\n",
    "# Down_gram.to_excel(r\"monpa下跌字串.xlsx\",index = False,header = True,encoding=\"utf-8\")"
   ]
  },
  {
   "cell_type": "code",
   "execution_count": 10,
   "metadata": {
    "ExecuteTime": {
     "end_time": "2020-05-07T06:55:10.394940Z",
     "start_time": "2020-05-07T06:55:06.772101Z"
    }
   },
   "outputs": [],
   "source": [
    "Up_gram = pd.read_excel(\"monpa上漲字串.xlsx\")\n",
    "Down_gram = pd.read_excel(\"monpa下跌字串.xlsx\")"
   ]
  },
  {
   "cell_type": "markdown",
   "metadata": {},
   "source": [
    "### Step3. 刪除頻繁重複出現在上漲與下跌的字詞"
   ]
  },
  {
   "cell_type": "markdown",
   "metadata": {},
   "source": [
    "* 為了加速計算，我們先設一個DF > 2的門檻，將出現次數極低的字詞先刪除"
   ]
  },
  {
   "cell_type": "code",
   "execution_count": 11,
   "metadata": {
    "ExecuteTime": {
     "end_time": "2020-05-07T06:55:14.320494Z",
     "start_time": "2020-05-07T06:55:14.309095Z"
    }
   },
   "outputs": [],
   "source": [
    "Up_gram = Up_gram[Up_gram[\"DF\"] > 10].reset_index(drop = True)\n",
    "Down_gram = Down_gram[Down_gram[\"DF\"] > 10].reset_index(drop = True)"
   ]
  },
  {
   "cell_type": "markdown",
   "metadata": {},
   "source": [
    "* 利用inner merge，找出重複字再分別從兩個字詞集刪除"
   ]
  },
  {
   "cell_type": "code",
   "execution_count": 12,
   "metadata": {
    "ExecuteTime": {
     "end_time": "2020-05-07T06:55:16.236632Z",
     "start_time": "2020-05-07T06:55:16.165904Z"
    }
   },
   "outputs": [
    {
     "data": {
      "text/html": [
       "<div>\n",
       "<style scoped>\n",
       "    .dataframe tbody tr th:only-of-type {\n",
       "        vertical-align: middle;\n",
       "    }\n",
       "\n",
       "    .dataframe tbody tr th {\n",
       "        vertical-align: top;\n",
       "    }\n",
       "\n",
       "    .dataframe thead th {\n",
       "        text-align: right;\n",
       "    }\n",
       "</style>\n",
       "<table border=\"1\" class=\"dataframe\">\n",
       "  <thead>\n",
       "    <tr style=\"text-align: right;\">\n",
       "      <th></th>\n",
       "      <th>Term</th>\n",
       "      <th>TF_x</th>\n",
       "      <th>DF_x</th>\n",
       "      <th>Wtf_x</th>\n",
       "      <th>IDFt_x</th>\n",
       "      <th>TF-IDF_x</th>\n",
       "      <th>TF_y</th>\n",
       "      <th>DF_y</th>\n",
       "      <th>Wtf_y</th>\n",
       "      <th>IDFt_y</th>\n",
       "      <th>TF-IDF_y</th>\n",
       "    </tr>\n",
       "  </thead>\n",
       "  <tbody>\n",
       "    <tr>\n",
       "      <th>0</th>\n",
       "      <td>蘋果</td>\n",
       "      <td>1665</td>\n",
       "      <td>712</td>\n",
       "      <td>4.221</td>\n",
       "      <td>1.253</td>\n",
       "      <td>5.287</td>\n",
       "      <td>1438</td>\n",
       "      <td>616</td>\n",
       "      <td>4.158</td>\n",
       "      <td>1.315</td>\n",
       "      <td>5.470</td>\n",
       "    </tr>\n",
       "    <tr>\n",
       "      <th>1</th>\n",
       "      <td>銷售</td>\n",
       "      <td>321</td>\n",
       "      <td>229</td>\n",
       "      <td>3.507</td>\n",
       "      <td>1.745</td>\n",
       "      <td>6.120</td>\n",
       "      <td>284</td>\n",
       "      <td>208</td>\n",
       "      <td>3.453</td>\n",
       "      <td>1.787</td>\n",
       "      <td>6.170</td>\n",
       "    </tr>\n",
       "    <tr>\n",
       "      <th>2</th>\n",
       "      <td>無力</td>\n",
       "      <td>79</td>\n",
       "      <td>75</td>\n",
       "      <td>2.898</td>\n",
       "      <td>2.230</td>\n",
       "      <td>6.462</td>\n",
       "      <td>72</td>\n",
       "      <td>61</td>\n",
       "      <td>2.857</td>\n",
       "      <td>2.320</td>\n",
       "      <td>6.627</td>\n",
       "    </tr>\n",
       "    <tr>\n",
       "      <th>3</th>\n",
       "      <td>加上</td>\n",
       "      <td>1026</td>\n",
       "      <td>663</td>\n",
       "      <td>4.011</td>\n",
       "      <td>1.283</td>\n",
       "      <td>5.148</td>\n",
       "      <td>934</td>\n",
       "      <td>609</td>\n",
       "      <td>3.970</td>\n",
       "      <td>1.320</td>\n",
       "      <td>5.242</td>\n",
       "    </tr>\n",
       "    <tr>\n",
       "      <th>4</th>\n",
       "      <td>大陸</td>\n",
       "      <td>243</td>\n",
       "      <td>181</td>\n",
       "      <td>3.386</td>\n",
       "      <td>1.847</td>\n",
       "      <td>6.255</td>\n",
       "      <td>220</td>\n",
       "      <td>146</td>\n",
       "      <td>3.342</td>\n",
       "      <td>1.941</td>\n",
       "      <td>6.486</td>\n",
       "    </tr>\n",
       "    <tr>\n",
       "      <th>...</th>\n",
       "      <td>...</td>\n",
       "      <td>...</td>\n",
       "      <td>...</td>\n",
       "      <td>...</td>\n",
       "      <td>...</td>\n",
       "      <td>...</td>\n",
       "      <td>...</td>\n",
       "      <td>...</td>\n",
       "      <td>...</td>\n",
       "      <td>...</td>\n",
       "      <td>...</td>\n",
       "    </tr>\n",
       "    <tr>\n",
       "      <th>3172</th>\n",
       "      <td>心得</td>\n",
       "      <td>62</td>\n",
       "      <td>53</td>\n",
       "      <td>2.792</td>\n",
       "      <td>2.381</td>\n",
       "      <td>6.647</td>\n",
       "      <td>45</td>\n",
       "      <td>44</td>\n",
       "      <td>2.653</td>\n",
       "      <td>2.462</td>\n",
       "      <td>6.530</td>\n",
       "    </tr>\n",
       "    <tr>\n",
       "      <th>3173</th>\n",
       "      <td>填寫</td>\n",
       "      <td>43</td>\n",
       "      <td>38</td>\n",
       "      <td>2.633</td>\n",
       "      <td>2.525</td>\n",
       "      <td>6.649</td>\n",
       "      <td>26</td>\n",
       "      <td>25</td>\n",
       "      <td>2.415</td>\n",
       "      <td>2.707</td>\n",
       "      <td>6.538</td>\n",
       "    </tr>\n",
       "    <tr>\n",
       "      <th>3174</th>\n",
       "      <td>充實</td>\n",
       "      <td>20</td>\n",
       "      <td>14</td>\n",
       "      <td>2.301</td>\n",
       "      <td>2.959</td>\n",
       "      <td>6.808</td>\n",
       "      <td>11</td>\n",
       "      <td>11</td>\n",
       "      <td>2.041</td>\n",
       "      <td>3.064</td>\n",
       "      <td>6.253</td>\n",
       "    </tr>\n",
       "    <tr>\n",
       "      <th>3175</th>\n",
       "      <td>覺得</td>\n",
       "      <td>37</td>\n",
       "      <td>20</td>\n",
       "      <td>2.568</td>\n",
       "      <td>2.804</td>\n",
       "      <td>7.201</td>\n",
       "      <td>22</td>\n",
       "      <td>16</td>\n",
       "      <td>2.342</td>\n",
       "      <td>2.901</td>\n",
       "      <td>6.794</td>\n",
       "    </tr>\n",
       "    <tr>\n",
       "      <th>3176</th>\n",
       "      <td>指選</td>\n",
       "      <td>14</td>\n",
       "      <td>14</td>\n",
       "      <td>2.146</td>\n",
       "      <td>2.959</td>\n",
       "      <td>6.350</td>\n",
       "      <td>14</td>\n",
       "      <td>14</td>\n",
       "      <td>2.146</td>\n",
       "      <td>2.959</td>\n",
       "      <td>6.350</td>\n",
       "    </tr>\n",
       "  </tbody>\n",
       "</table>\n",
       "<p>3177 rows × 11 columns</p>\n",
       "</div>"
      ],
      "text/plain": [
       "     Term  TF_x  DF_x  Wtf_x  IDFt_x  TF-IDF_x  TF_y  DF_y  Wtf_y  IDFt_y  \\\n",
       "0      蘋果  1665   712  4.221   1.253     5.287  1438   616  4.158   1.315   \n",
       "1      銷售   321   229  3.507   1.745     6.120   284   208  3.453   1.787   \n",
       "2      無力    79    75  2.898   2.230     6.462    72    61  2.857   2.320   \n",
       "3      加上  1026   663  4.011   1.283     5.148   934   609  3.970   1.320   \n",
       "4      大陸   243   181  3.386   1.847     6.255   220   146  3.342   1.941   \n",
       "...   ...   ...   ...    ...     ...       ...   ...   ...    ...     ...   \n",
       "3172   心得    62    53  2.792   2.381     6.647    45    44  2.653   2.462   \n",
       "3173   填寫    43    38  2.633   2.525     6.649    26    25  2.415   2.707   \n",
       "3174   充實    20    14  2.301   2.959     6.808    11    11  2.041   3.064   \n",
       "3175   覺得    37    20  2.568   2.804     7.201    22    16  2.342   2.901   \n",
       "3176   指選    14    14  2.146   2.959     6.350    14    14  2.146   2.959   \n",
       "\n",
       "      TF-IDF_y  \n",
       "0        5.470  \n",
       "1        6.170  \n",
       "2        6.627  \n",
       "3        5.242  \n",
       "4        6.486  \n",
       "...        ...  \n",
       "3172     6.530  \n",
       "3173     6.538  \n",
       "3174     6.253  \n",
       "3175     6.794  \n",
       "3176     6.350  \n",
       "\n",
       "[3177 rows x 11 columns]"
      ]
     },
     "execution_count": 12,
     "metadata": {},
     "output_type": "execute_result"
    }
   ],
   "source": [
    "Repeat = pd.merge(Up_gram, Down_gram, on = [\"Term\"], how = \"inner\")\n",
    "Repeat"
   ]
  },
  {
   "cell_type": "code",
   "execution_count": 13,
   "metadata": {
    "ExecuteTime": {
     "end_time": "2020-05-07T06:55:50.876341Z",
     "start_time": "2020-05-07T06:55:42.844359Z"
    }
   },
   "outputs": [
    {
     "data": {
      "text/html": [
       "<div>\n",
       "<style scoped>\n",
       "    .dataframe tbody tr th:only-of-type {\n",
       "        vertical-align: middle;\n",
       "    }\n",
       "\n",
       "    .dataframe tbody tr th {\n",
       "        vertical-align: top;\n",
       "    }\n",
       "\n",
       "    .dataframe thead th {\n",
       "        text-align: right;\n",
       "    }\n",
       "</style>\n",
       "<table border=\"1\" class=\"dataframe\">\n",
       "  <thead>\n",
       "    <tr style=\"text-align: right;\">\n",
       "      <th></th>\n",
       "      <th>Term</th>\n",
       "      <th>TF</th>\n",
       "      <th>DF</th>\n",
       "      <th>Wtf</th>\n",
       "      <th>IDFt</th>\n",
       "      <th>TF-IDF</th>\n",
       "    </tr>\n",
       "  </thead>\n",
       "  <tbody>\n",
       "    <tr>\n",
       "      <th>0</th>\n",
       "      <td>周轉率</td>\n",
       "      <td>64</td>\n",
       "      <td>20</td>\n",
       "      <td>2.806</td>\n",
       "      <td>2.804</td>\n",
       "      <td>7.868</td>\n",
       "    </tr>\n",
       "    <tr>\n",
       "      <th>1</th>\n",
       "      <td>沖</td>\n",
       "      <td>40</td>\n",
       "      <td>13</td>\n",
       "      <td>2.602</td>\n",
       "      <td>2.991</td>\n",
       "      <td>7.783</td>\n",
       "    </tr>\n",
       "    <tr>\n",
       "      <th>2</th>\n",
       "      <td>林恩舟</td>\n",
       "      <td>35</td>\n",
       "      <td>12</td>\n",
       "      <td>2.544</td>\n",
       "      <td>3.026</td>\n",
       "      <td>7.698</td>\n",
       "    </tr>\n",
       "    <tr>\n",
       "      <th>3</th>\n",
       "      <td>舜宇</td>\n",
       "      <td>32</td>\n",
       "      <td>13</td>\n",
       "      <td>2.505</td>\n",
       "      <td>2.991</td>\n",
       "      <td>7.493</td>\n",
       "    </tr>\n",
       "    <tr>\n",
       "      <th>4</th>\n",
       "      <td>定期</td>\n",
       "      <td>29</td>\n",
       "      <td>12</td>\n",
       "      <td>2.462</td>\n",
       "      <td>3.026</td>\n",
       "      <td>7.450</td>\n",
       "    </tr>\n",
       "    <tr>\n",
       "      <th>...</th>\n",
       "      <td>...</td>\n",
       "      <td>...</td>\n",
       "      <td>...</td>\n",
       "      <td>...</td>\n",
       "      <td>...</td>\n",
       "      <td>...</td>\n",
       "    </tr>\n",
       "    <tr>\n",
       "      <th>620</th>\n",
       "      <td>扮</td>\n",
       "      <td>11</td>\n",
       "      <td>11</td>\n",
       "      <td>2.041</td>\n",
       "      <td>3.064</td>\n",
       "      <td>6.253</td>\n",
       "    </tr>\n",
       "    <tr>\n",
       "      <th>621</th>\n",
       "      <td>跳漲</td>\n",
       "      <td>11</td>\n",
       "      <td>11</td>\n",
       "      <td>2.041</td>\n",
       "      <td>3.064</td>\n",
       "      <td>6.253</td>\n",
       "    </tr>\n",
       "    <tr>\n",
       "      <th>622</th>\n",
       "      <td>光聯</td>\n",
       "      <td>11</td>\n",
       "      <td>11</td>\n",
       "      <td>2.041</td>\n",
       "      <td>3.064</td>\n",
       "      <td>6.253</td>\n",
       "    </tr>\n",
       "    <tr>\n",
       "      <th>623</th>\n",
       "      <td>富邦金國泰金</td>\n",
       "      <td>11</td>\n",
       "      <td>11</td>\n",
       "      <td>2.041</td>\n",
       "      <td>3.064</td>\n",
       "      <td>6.253</td>\n",
       "    </tr>\n",
       "    <tr>\n",
       "      <th>624</th>\n",
       "      <td>開打</td>\n",
       "      <td>11</td>\n",
       "      <td>11</td>\n",
       "      <td>2.041</td>\n",
       "      <td>3.064</td>\n",
       "      <td>6.253</td>\n",
       "    </tr>\n",
       "  </tbody>\n",
       "</table>\n",
       "<p>625 rows × 6 columns</p>\n",
       "</div>"
      ],
      "text/plain": [
       "       Term  TF  DF    Wtf   IDFt  TF-IDF\n",
       "0       周轉率  64  20  2.806  2.804   7.868\n",
       "1         沖  40  13  2.602  2.991   7.783\n",
       "2       林恩舟  35  12  2.544  3.026   7.698\n",
       "3        舜宇  32  13  2.505  2.991   7.493\n",
       "4        定期  29  12  2.462  3.026   7.450\n",
       "..      ...  ..  ..    ...    ...     ...\n",
       "620       扮  11  11  2.041  3.064   6.253\n",
       "621      跳漲  11  11  2.041  3.064   6.253\n",
       "622      光聯  11  11  2.041  3.064   6.253\n",
       "623  富邦金國泰金  11  11  2.041  3.064   6.253\n",
       "624      開打  11  11  2.041  3.064   6.253\n",
       "\n",
       "[625 rows x 6 columns]"
      ]
     },
     "execution_count": 13,
     "metadata": {},
     "output_type": "execute_result"
    }
   ],
   "source": [
    "for i in range(len(Up_gram)):\n",
    "    if Up_gram[\"Term\"][i] in Repeat[\"Term\"].values:\n",
    "        Up_gram.drop([i], inplace = True)\n",
    "Up_gram = Up_gram.sort_values(by = \"TF-IDF\", ascending = False)\n",
    "Up_gram= Up_gram.reset_index(drop=True)\n",
    "Up_gram"
   ]
  },
  {
   "cell_type": "code",
   "execution_count": 14,
   "metadata": {
    "ExecuteTime": {
     "end_time": "2020-05-07T06:56:00.947036Z",
     "start_time": "2020-05-07T06:55:53.346707Z"
    }
   },
   "outputs": [
    {
     "data": {
      "text/html": [
       "<div>\n",
       "<style scoped>\n",
       "    .dataframe tbody tr th:only-of-type {\n",
       "        vertical-align: middle;\n",
       "    }\n",
       "\n",
       "    .dataframe tbody tr th {\n",
       "        vertical-align: top;\n",
       "    }\n",
       "\n",
       "    .dataframe thead th {\n",
       "        text-align: right;\n",
       "    }\n",
       "</style>\n",
       "<table border=\"1\" class=\"dataframe\">\n",
       "  <thead>\n",
       "    <tr style=\"text-align: right;\">\n",
       "      <th></th>\n",
       "      <th>Term</th>\n",
       "      <th>TF</th>\n",
       "      <th>DF</th>\n",
       "      <th>Wtf</th>\n",
       "      <th>IDFt</th>\n",
       "      <th>TF-IDF</th>\n",
       "    </tr>\n",
       "  </thead>\n",
       "  <tbody>\n",
       "    <tr>\n",
       "      <th>0</th>\n",
       "      <td>億萬</td>\n",
       "      <td>73</td>\n",
       "      <td>20</td>\n",
       "      <td>2.863</td>\n",
       "      <td>2.804</td>\n",
       "      <td>8.028</td>\n",
       "    </tr>\n",
       "    <tr>\n",
       "      <th>1</th>\n",
       "      <td>週六</td>\n",
       "      <td>37</td>\n",
       "      <td>13</td>\n",
       "      <td>2.568</td>\n",
       "      <td>2.991</td>\n",
       "      <td>7.681</td>\n",
       "    </tr>\n",
       "    <tr>\n",
       "      <th>2</th>\n",
       "      <td>佔到</td>\n",
       "      <td>32</td>\n",
       "      <td>11</td>\n",
       "      <td>2.505</td>\n",
       "      <td>3.064</td>\n",
       "      <td>7.674</td>\n",
       "    </tr>\n",
       "    <tr>\n",
       "      <th>3</th>\n",
       "      <td>蔡明翰</td>\n",
       "      <td>28</td>\n",
       "      <td>14</td>\n",
       "      <td>2.447</td>\n",
       "      <td>2.959</td>\n",
       "      <td>7.240</td>\n",
       "    </tr>\n",
       "    <tr>\n",
       "      <th>4</th>\n",
       "      <td>貼息</td>\n",
       "      <td>26</td>\n",
       "      <td>13</td>\n",
       "      <td>2.415</td>\n",
       "      <td>2.991</td>\n",
       "      <td>7.223</td>\n",
       "    </tr>\n",
       "    <tr>\n",
       "      <th>...</th>\n",
       "      <td>...</td>\n",
       "      <td>...</td>\n",
       "      <td>...</td>\n",
       "      <td>...</td>\n",
       "      <td>...</td>\n",
       "      <td>...</td>\n",
       "    </tr>\n",
       "    <tr>\n",
       "      <th>268</th>\n",
       "      <td>區塊</td>\n",
       "      <td>11</td>\n",
       "      <td>11</td>\n",
       "      <td>2.041</td>\n",
       "      <td>3.064</td>\n",
       "      <td>6.253</td>\n",
       "    </tr>\n",
       "    <tr>\n",
       "      <th>269</th>\n",
       "      <td>連漲</td>\n",
       "      <td>11</td>\n",
       "      <td>11</td>\n",
       "      <td>2.041</td>\n",
       "      <td>3.064</td>\n",
       "      <td>6.253</td>\n",
       "    </tr>\n",
       "    <tr>\n",
       "      <th>270</th>\n",
       "      <td>服務業</td>\n",
       "      <td>11</td>\n",
       "      <td>11</td>\n",
       "      <td>2.041</td>\n",
       "      <td>3.064</td>\n",
       "      <td>6.253</td>\n",
       "    </tr>\n",
       "    <tr>\n",
       "      <th>271</th>\n",
       "      <td>映泰</td>\n",
       "      <td>11</td>\n",
       "      <td>11</td>\n",
       "      <td>2.041</td>\n",
       "      <td>3.064</td>\n",
       "      <td>6.253</td>\n",
       "    </tr>\n",
       "    <tr>\n",
       "      <th>272</th>\n",
       "      <td>指口櫃</td>\n",
       "      <td>11</td>\n",
       "      <td>11</td>\n",
       "      <td>2.041</td>\n",
       "      <td>3.064</td>\n",
       "      <td>6.253</td>\n",
       "    </tr>\n",
       "  </tbody>\n",
       "</table>\n",
       "<p>273 rows × 6 columns</p>\n",
       "</div>"
      ],
      "text/plain": [
       "    Term  TF  DF    Wtf   IDFt  TF-IDF\n",
       "0     億萬  73  20  2.863  2.804   8.028\n",
       "1     週六  37  13  2.568  2.991   7.681\n",
       "2     佔到  32  11  2.505  3.064   7.674\n",
       "3    蔡明翰  28  14  2.447  2.959   7.240\n",
       "4     貼息  26  13  2.415  2.991   7.223\n",
       "..   ...  ..  ..    ...    ...     ...\n",
       "268   區塊  11  11  2.041  3.064   6.253\n",
       "269   連漲  11  11  2.041  3.064   6.253\n",
       "270  服務業  11  11  2.041  3.064   6.253\n",
       "271   映泰  11  11  2.041  3.064   6.253\n",
       "272  指口櫃  11  11  2.041  3.064   6.253\n",
       "\n",
       "[273 rows x 6 columns]"
      ]
     },
     "execution_count": 14,
     "metadata": {},
     "output_type": "execute_result"
    }
   ],
   "source": [
    "for i in range(len(Down_gram)):\n",
    "    if Down_gram[\"Term\"][i] in Repeat[\"Term\"].values:\n",
    "        Down_gram.drop([i], inplace = True)\n",
    "Down_gram = Down_gram.sort_values(by = \"TF-IDF\", ascending = False)\n",
    "Down_gram = Down_gram.reset_index(drop = True)\n",
    "Down_gram"
   ]
  },
  {
   "cell_type": "markdown",
   "metadata": {},
   "source": [
    "* 現在我們確定了出現在上漲以及下跌字詞集裡的字了，分別有2237與1461個，我們將他們合併為一個叫做Words的List"
   ]
  },
  {
   "cell_type": "code",
   "execution_count": 15,
   "metadata": {
    "ExecuteTime": {
     "end_time": "2020-05-07T06:56:06.187864Z",
     "start_time": "2020-05-07T06:56:06.183763Z"
    }
   },
   "outputs": [],
   "source": [
    "# LPC = pd.read_excel(\"大立光新聞.xlsx\")\n",
    "Up_word = Up_gram[\"Term\"][:].values.tolist()\n",
    "Down_word = Down_gram[\"Term\"][:].values.tolist()\n",
    "word = Up_word + Down_word"
   ]
  },
  {
   "cell_type": "code",
   "execution_count": 16,
   "metadata": {
    "ExecuteTime": {
     "end_time": "2020-05-07T06:56:06.638190Z",
     "start_time": "2020-05-07T06:56:06.628857Z"
    }
   },
   "outputs": [
    {
     "name": "stdout",
     "output_type": "stream",
     "text": [
      "Model Dimension: 898\n"
     ]
    }
   ],
   "source": [
    "print(\"Model Dimension:\", len(word))"
   ]
  },
  {
   "cell_type": "markdown",
   "metadata": {},
   "source": [
    "### Step 4. 篩選出大立光的訓練與測試集文章"
   ]
  },
  {
   "cell_type": "code",
   "execution_count": 17,
   "metadata": {
    "ExecuteTime": {
     "end_time": "2020-05-07T06:56:11.359157Z",
     "start_time": "2020-05-07T06:56:10.786149Z"
    }
   },
   "outputs": [
    {
     "name": "stderr",
     "output_type": "stream",
     "text": [
      "/Users/a080528/anaconda3/lib/python3.7/site-packages/pandas/core/frame.py:4238: SettingWithCopyWarning: \n",
      "A value is trying to be set on a copy of a slice from a DataFrame\n",
      "\n",
      "See the caveats in the documentation: http://pandas.pydata.org/pandas-docs/stable/user_guide/indexing.html#returning-a-view-versus-a-copy\n",
      "  return super().rename(**kwargs)\n"
     ]
    }
   ],
   "source": [
    "# 找有股價漲跌達3%以上的前兩日日期\n",
    "Up_publish_date = []\n",
    "Down_publish_date = []\n",
    "\n",
    "for i in range(len(Up_date)):\n",
    "    for j in range(n):\n",
    "        Up_publish_date.append(Up_date[i] - pd.Timedelta(days = j+1))\n",
    "for i in range(len(Down_date)):\n",
    "    for j in range(n):\n",
    "        Down_publish_date.append(Down_date[i] - pd.Timedelta(days = j+1))\n",
    "\n",
    "Up_publish_date = list(set(Up_publish_date))\n",
    "Down_publish_date = list(set(Down_publish_date))\n",
    "\n",
    "LPC = articles[(articles[\"content\"].str.contains(\"大立光\") | articles[\"title\"].str.contains(\"大立光\"))]  # 所有大立光的文章\n",
    "LPC = LPC[LPC[\"post_time\"].isin(Up_publish_date + Down_publish_date)].reset_index(drop = True)  # 所有大立光出現在有2%漲幅前兩日的文章\n",
    "LPC_stock = stockprice[stockprice[\"年月日\"].isin(list(set(LPC[\"post_time\"].tolist())))]\n",
    "\n",
    "# # # 把股價資料集和新聞資料集做合併，刪除不需要的columns\n",
    "LPC_stock.rename(columns={\"年月日\":\"post_time\"}, inplace = True)\n",
    "LPC = pd.merge(LPC, LPC_stock, on = [\"post_time\"], how = \"inner\")\n",
    "LPC = LPC.dropna().reset_index(drop = True)\n",
    "LPC = LPC.iloc[:, [0,1,2,14]]\n",
    "\n",
    "# # # 將股價波動轉為dummy，只取波動3％以上，其餘刪除\n",
    "LPC.loc[LPC[\"波動(漲跌幅)\"] >= 0.03, \"波動(漲跌幅)\"] = 1\n",
    "LPC.loc[LPC[\"波動(漲跌幅)\"] <= -0.03, \"波動(漲跌幅)\"] = 0\n",
    "LPC = LPC[LPC[\"波動(漲跌幅)\"].isin([0,1])]\n",
    "LPC = LPC.reset_index(drop = True)"
   ]
  },
  {
   "cell_type": "code",
   "execution_count": 18,
   "metadata": {
    "ExecuteTime": {
     "end_time": "2020-05-07T06:56:15.685479Z",
     "start_time": "2020-05-07T06:56:15.654216Z"
    }
   },
   "outputs": [
    {
     "data": {
      "text/html": [
       "<div>\n",
       "<style scoped>\n",
       "    .dataframe tbody tr th:only-of-type {\n",
       "        vertical-align: middle;\n",
       "    }\n",
       "\n",
       "    .dataframe tbody tr th {\n",
       "        vertical-align: top;\n",
       "    }\n",
       "\n",
       "    .dataframe thead th {\n",
       "        text-align: right;\n",
       "    }\n",
       "</style>\n",
       "<table border=\"1\" class=\"dataframe\">\n",
       "  <thead>\n",
       "    <tr style=\"text-align: right;\">\n",
       "      <th></th>\n",
       "      <th>post_time</th>\n",
       "      <th>title</th>\n",
       "      <th>content</th>\n",
       "      <th>波動(漲跌幅)</th>\n",
       "    </tr>\n",
       "  </thead>\n",
       "  <tbody>\n",
       "    <tr>\n",
       "      <th>0</th>\n",
       "      <td>2016-01-06</td>\n",
       "      <td>《各報要聞》蘋果不甜，大立光12月營收掉3成</td>\n",
       "      <td>蘋果iPhone 6s/6s Plus銷售無力，加上大陸在內的其餘品牌業績乏善可陳，全球手機...</td>\n",
       "      <td>0.0</td>\n",
       "    </tr>\n",
       "    <tr>\n",
       "      <th>1</th>\n",
       "      <td>2016-01-06</td>\n",
       "      <td>台股盤前－兩岸貨貿+陸客中轉選前釋利多 可望收復8100</td>\n",
       "      <td>台股昨(5)日跌破8100點關卡，下跌39點，指數收在8075點，成交值802億元。歐美股市...</td>\n",
       "      <td>0.0</td>\n",
       "    </tr>\n",
       "    <tr>\n",
       "      <th>2</th>\n",
       "      <td>2016-01-06</td>\n",
       "      <td>《外資》台股電子股，麥格理喊進6檔</td>\n",
       "      <td>麥格理資本證券昨（5）日發表2016年大中華科技產業研究報告，認為產品轉型與新產品週期將重塑...</td>\n",
       "      <td>0.0</td>\n",
       "    </tr>\n",
       "    <tr>\n",
       "      <th>3</th>\n",
       "      <td>2016-01-06</td>\n",
       "      <td>《今日焦點新聞》央行穩匯市，掛三大保證</td>\n",
       "      <td>時報-今日焦點新聞&lt;BR&gt; 國內頭條：&lt;BR&gt; 1.蘋果不甜，大立光12月營收掉3成。(工商...</td>\n",
       "      <td>0.0</td>\n",
       "    </tr>\n",
       "    <tr>\n",
       "      <th>4</th>\n",
       "      <td>2016-01-06</td>\n",
       "      <td>【Ｙ早報】央行穩匯市 掛三大保證</td>\n",
       "      <td>（開盤日9:00出刊）美股止跌，道瓊小漲9點；選前政策放利多，陸客來台中轉放行，航空、免稅店...</td>\n",
       "      <td>0.0</td>\n",
       "    </tr>\n",
       "    <tr>\n",
       "      <th>...</th>\n",
       "      <td>...</td>\n",
       "      <td>...</td>\n",
       "      <td>...</td>\n",
       "      <td>...</td>\n",
       "    </tr>\n",
       "    <tr>\n",
       "      <th>1063</th>\n",
       "      <td>2018-02-06</td>\n",
       "      <td>[請益] 跌停家數117家，來聊聊錯殺股吧！</td>\n",
       "      <td>今天跌停家數117家，\\n-5%內都算強勢股了\\n\\n新聞，事後理由一推。但還是覺得崩的莫名...</td>\n",
       "      <td>0.0</td>\n",
       "    </tr>\n",
       "    <tr>\n",
       "      <th>1064</th>\n",
       "      <td>2018-02-06</td>\n",
       "      <td>外資落井下石，股王股價將會如何反應?</td>\n",
       "      <td>當昨天美股大跌，&lt;BR&gt;台灣股市跟跌，&lt;BR&gt;股王大立光也大跌4.5%，&lt;BR&gt;–180元，...</td>\n",
       "      <td>0.0</td>\n",
       "    </tr>\n",
       "    <tr>\n",
       "      <th>1065</th>\n",
       "      <td>2018-02-07</td>\n",
       "      <td>Re: [標的] 個人進場 　2330台積電 @237.5</td>\n",
       "      <td>先來一張盤後圖接回安心留倉的期貨部位後..\\n（沒po文）\\nhttps://i.imgur...</td>\n",
       "      <td>1.0</td>\n",
       "    </tr>\n",
       "    <tr>\n",
       "      <th>1066</th>\n",
       "      <td>2018-02-07</td>\n",
       "      <td>[閒聊] 2018/02/07 盤後閒聊</td>\n",
       "      <td>台  股 10551.54  ▲ 147.54 (1.42%)  1735.44億\\n台指0...</td>\n",
       "      <td>1.0</td>\n",
       "    </tr>\n",
       "    <tr>\n",
       "      <th>1067</th>\n",
       "      <td>2018-02-07</td>\n",
       "      <td>[請益] 大盤漲但權值股變動少代表的意義</td>\n",
       "      <td>今天台股一掃之前的陰霾也跟著美股一起收紅\\n\\n不過之前大盤重挫時大跌的台積、鴻海等權值股，...</td>\n",
       "      <td>1.0</td>\n",
       "    </tr>\n",
       "  </tbody>\n",
       "</table>\n",
       "<p>1068 rows × 4 columns</p>\n",
       "</div>"
      ],
      "text/plain": [
       "       post_time                          title  \\\n",
       "0     2016-01-06         《各報要聞》蘋果不甜，大立光12月營收掉3成   \n",
       "1     2016-01-06   台股盤前－兩岸貨貿+陸客中轉選前釋利多 可望收復8100   \n",
       "2     2016-01-06              《外資》台股電子股，麥格理喊進6檔   \n",
       "3     2016-01-06            《今日焦點新聞》央行穩匯市，掛三大保證   \n",
       "4     2016-01-06               【Ｙ早報】央行穩匯市 掛三大保證   \n",
       "...          ...                            ...   \n",
       "1063  2018-02-06         [請益] 跌停家數117家，來聊聊錯殺股吧！   \n",
       "1064  2018-02-06             外資落井下石，股王股價將會如何反應?   \n",
       "1065  2018-02-07  Re: [標的] 個人進場 　2330台積電 @237.5   \n",
       "1066  2018-02-07           [閒聊] 2018/02/07 盤後閒聊   \n",
       "1067  2018-02-07           [請益] 大盤漲但權值股變動少代表的意義   \n",
       "\n",
       "                                                content  波動(漲跌幅)  \n",
       "0     蘋果iPhone 6s/6s Plus銷售無力，加上大陸在內的其餘品牌業績乏善可陳，全球手機...      0.0  \n",
       "1     台股昨(5)日跌破8100點關卡，下跌39點，指數收在8075點，成交值802億元。歐美股市...      0.0  \n",
       "2     麥格理資本證券昨（5）日發表2016年大中華科技產業研究報告，認為產品轉型與新產品週期將重塑...      0.0  \n",
       "3     時報-今日焦點新聞<BR> 國內頭條：<BR> 1.蘋果不甜，大立光12月營收掉3成。(工商...      0.0  \n",
       "4     （開盤日9:00出刊）美股止跌，道瓊小漲9點；選前政策放利多，陸客來台中轉放行，航空、免稅店...      0.0  \n",
       "...                                                 ...      ...  \n",
       "1063  今天跌停家數117家，\\n-5%內都算強勢股了\\n\\n新聞，事後理由一推。但還是覺得崩的莫名...      0.0  \n",
       "1064  當昨天美股大跌，<BR>台灣股市跟跌，<BR>股王大立光也大跌4.5%，<BR>–180元，...      0.0  \n",
       "1065  先來一張盤後圖接回安心留倉的期貨部位後..\\n（沒po文）\\nhttps://i.imgur...      1.0  \n",
       "1066  台  股 10551.54  ▲ 147.54 (1.42%)  1735.44億\\n台指0...      1.0  \n",
       "1067  今天台股一掃之前的陰霾也跟著美股一起收紅\\n\\n不過之前大盤重挫時大跌的台積、鴻海等權值股，...      1.0  \n",
       "\n",
       "[1068 rows x 4 columns]"
      ]
     },
     "execution_count": 18,
     "metadata": {},
     "output_type": "execute_result"
    }
   ],
   "source": [
    "LPC"
   ]
  },
  {
   "cell_type": "markdown",
   "metadata": {},
   "source": [
    "* 接著我們將這1068篇的文章，分別以字串方式切字斷句"
   ]
  },
  {
   "cell_type": "code",
   "execution_count": null,
   "metadata": {
    "ExecuteTime": {
     "end_time": "2020-05-07T07:09:35.101134Z",
     "start_time": "2020-05-07T06:58:23.090334Z"
    }
   },
   "outputs": [],
   "source": [
    "news = LPC[\"content\"].tolist()\n",
    "news_split = []\n",
    "for i in range(len(news)):\n",
    "    news1 = LongCut(news[i])\n",
    "    str1 = \" \".join(news1)\n",
    "    news_split.append(str1)\n",
    "news_split"
   ]
  },
  {
   "cell_type": "markdown",
   "metadata": {},
   "source": [
    "* 切詞部分需要跑大約10分多鐘，所以我把檔案存成\"大立光訓練與測試集文章.txt\"，之後要跑直接open file就不用重新切字"
   ]
  },
  {
   "cell_type": "code",
   "execution_count": 18,
   "metadata": {
    "ExecuteTime": {
     "end_time": "2020-05-07T07:35:13.423085Z",
     "start_time": "2020-05-07T07:35:13.380662Z"
    }
   },
   "outputs": [],
   "source": [
    "# with open('大立光訓練與測試集文章.txt', 'w') as f:\n",
    "#     for item in news_split:\n",
    "#         f.write(\"%s\\n\" % item)"
   ]
  },
  {
   "cell_type": "code",
   "execution_count": 19,
   "metadata": {
    "ExecuteTime": {
     "end_time": "2020-05-07T07:39:45.829657Z",
     "start_time": "2020-05-07T07:39:45.803505Z"
    }
   },
   "outputs": [],
   "source": [
    "with open(\"大立光訓練與測試集文章.txt\", \"r\", encoding = \"utf-8\") as text:\n",
    "    news_split = text.readlines()\n",
    "text.close()"
   ]
  },
  {
   "cell_type": "code",
   "execution_count": 20,
   "metadata": {
    "ExecuteTime": {
     "end_time": "2020-05-07T07:40:01.401230Z",
     "start_time": "2020-05-07T07:40:01.176778Z"
    }
   },
   "outputs": [
    {
     "data": {
      "text/html": [
       "<div>\n",
       "<style scoped>\n",
       "    .dataframe tbody tr th:only-of-type {\n",
       "        vertical-align: middle;\n",
       "    }\n",
       "\n",
       "    .dataframe tbody tr th {\n",
       "        vertical-align: top;\n",
       "    }\n",
       "\n",
       "    .dataframe thead th {\n",
       "        text-align: right;\n",
       "    }\n",
       "</style>\n",
       "<table border=\"1\" class=\"dataframe\">\n",
       "  <thead>\n",
       "    <tr style=\"text-align: right;\">\n",
       "      <th></th>\n",
       "      <th>周轉率</th>\n",
       "      <th>沖</th>\n",
       "      <th>林恩舟</th>\n",
       "      <th>舜宇</th>\n",
       "      <th>定期</th>\n",
       "      <th>定額</th>\n",
       "      <th>專利</th>\n",
       "      <th>光電類</th>\n",
       "      <th>平均值</th>\n",
       "      <th>停產</th>\n",
       "      <th>...</th>\n",
       "      <th>南亞科華邦電</th>\n",
       "      <th>落定</th>\n",
       "      <th>初期</th>\n",
       "      <th>塵埃</th>\n",
       "      <th>曇花一現</th>\n",
       "      <th>區塊</th>\n",
       "      <th>連漲</th>\n",
       "      <th>服務業</th>\n",
       "      <th>映泰</th>\n",
       "      <th>指口櫃</th>\n",
       "    </tr>\n",
       "  </thead>\n",
       "  <tbody>\n",
       "    <tr>\n",
       "      <th>0</th>\n",
       "      <td>0</td>\n",
       "      <td>0</td>\n",
       "      <td>0</td>\n",
       "      <td>0</td>\n",
       "      <td>0</td>\n",
       "      <td>0</td>\n",
       "      <td>0</td>\n",
       "      <td>0</td>\n",
       "      <td>0</td>\n",
       "      <td>0</td>\n",
       "      <td>...</td>\n",
       "      <td>0</td>\n",
       "      <td>0</td>\n",
       "      <td>0</td>\n",
       "      <td>0</td>\n",
       "      <td>0</td>\n",
       "      <td>0</td>\n",
       "      <td>0</td>\n",
       "      <td>0</td>\n",
       "      <td>0</td>\n",
       "      <td>0</td>\n",
       "    </tr>\n",
       "    <tr>\n",
       "      <th>1</th>\n",
       "      <td>0</td>\n",
       "      <td>0</td>\n",
       "      <td>0</td>\n",
       "      <td>0</td>\n",
       "      <td>0</td>\n",
       "      <td>0</td>\n",
       "      <td>0</td>\n",
       "      <td>0</td>\n",
       "      <td>0</td>\n",
       "      <td>0</td>\n",
       "      <td>...</td>\n",
       "      <td>0</td>\n",
       "      <td>0</td>\n",
       "      <td>0</td>\n",
       "      <td>0</td>\n",
       "      <td>0</td>\n",
       "      <td>0</td>\n",
       "      <td>0</td>\n",
       "      <td>0</td>\n",
       "      <td>0</td>\n",
       "      <td>0</td>\n",
       "    </tr>\n",
       "    <tr>\n",
       "      <th>2</th>\n",
       "      <td>0</td>\n",
       "      <td>0</td>\n",
       "      <td>0</td>\n",
       "      <td>0</td>\n",
       "      <td>0</td>\n",
       "      <td>0</td>\n",
       "      <td>0</td>\n",
       "      <td>0</td>\n",
       "      <td>1</td>\n",
       "      <td>0</td>\n",
       "      <td>...</td>\n",
       "      <td>0</td>\n",
       "      <td>0</td>\n",
       "      <td>0</td>\n",
       "      <td>0</td>\n",
       "      <td>0</td>\n",
       "      <td>0</td>\n",
       "      <td>0</td>\n",
       "      <td>0</td>\n",
       "      <td>0</td>\n",
       "      <td>0</td>\n",
       "    </tr>\n",
       "    <tr>\n",
       "      <th>3</th>\n",
       "      <td>0</td>\n",
       "      <td>0</td>\n",
       "      <td>0</td>\n",
       "      <td>0</td>\n",
       "      <td>0</td>\n",
       "      <td>0</td>\n",
       "      <td>0</td>\n",
       "      <td>0</td>\n",
       "      <td>0</td>\n",
       "      <td>0</td>\n",
       "      <td>...</td>\n",
       "      <td>0</td>\n",
       "      <td>0</td>\n",
       "      <td>0</td>\n",
       "      <td>0</td>\n",
       "      <td>0</td>\n",
       "      <td>0</td>\n",
       "      <td>0</td>\n",
       "      <td>0</td>\n",
       "      <td>0</td>\n",
       "      <td>0</td>\n",
       "    </tr>\n",
       "    <tr>\n",
       "      <th>4</th>\n",
       "      <td>0</td>\n",
       "      <td>0</td>\n",
       "      <td>0</td>\n",
       "      <td>0</td>\n",
       "      <td>0</td>\n",
       "      <td>0</td>\n",
       "      <td>0</td>\n",
       "      <td>0</td>\n",
       "      <td>0</td>\n",
       "      <td>0</td>\n",
       "      <td>...</td>\n",
       "      <td>0</td>\n",
       "      <td>0</td>\n",
       "      <td>0</td>\n",
       "      <td>0</td>\n",
       "      <td>0</td>\n",
       "      <td>0</td>\n",
       "      <td>0</td>\n",
       "      <td>0</td>\n",
       "      <td>0</td>\n",
       "      <td>0</td>\n",
       "    </tr>\n",
       "  </tbody>\n",
       "</table>\n",
       "<p>5 rows × 898 columns</p>\n",
       "</div>"
      ],
      "text/plain": [
       "   周轉率  沖  林恩舟  舜宇  定期  定額  專利  光電類  平均值  停產  ...  南亞科華邦電  落定  初期  塵埃  曇花一現  \\\n",
       "0    0  0    0   0   0   0   0    0    0   0  ...       0   0   0   0     0   \n",
       "1    0  0    0   0   0   0   0    0    0   0  ...       0   0   0   0     0   \n",
       "2    0  0    0   0   0   0   0    0    1   0  ...       0   0   0   0     0   \n",
       "3    0  0    0   0   0   0   0    0    0   0  ...       0   0   0   0     0   \n",
       "4    0  0    0   0   0   0   0    0    0   0  ...       0   0   0   0     0   \n",
       "\n",
       "   區塊  連漲  服務業  映泰  指口櫃  \n",
       "0   0   0    0   0    0  \n",
       "1   0   0    0   0    0  \n",
       "2   0   0    0   0    0  \n",
       "3   0   0    0   0    0  \n",
       "4   0   0    0   0    0  \n",
       "\n",
       "[5 rows x 898 columns]"
      ]
     },
     "execution_count": 20,
     "metadata": {},
     "output_type": "execute_result"
    }
   ],
   "source": [
    "from sklearn.feature_extraction.text import CountVectorizer\n",
    "vectorizer = CountVectorizer(vocabulary = word)\n",
    "vectorizer.fit_transform(word)\n",
    "tf = vectorizer.transform(news_split)\n",
    "vec = pd.DataFrame(tf.toarray(), columns = vectorizer.get_feature_names()) \n",
    "vec.head()"
   ]
  },
  {
   "cell_type": "markdown",
   "metadata": {},
   "source": [
    "* 我們先從完全不降維開始做"
   ]
  },
  {
   "cell_type": "markdown",
   "metadata": {},
   "source": [
    "## ＊第二題：將前述兩批文章作為訓練資料及測試資料，使用監督式學習之分類演算法，評估分類模型之準確率"
   ]
  },
  {
   "cell_type": "markdown",
   "metadata": {},
   "source": [
    "* 我們要用來分析的大立光漲跌文章為以下1755篇與大立光相關的文章："
   ]
  },
  {
   "cell_type": "code",
   "execution_count": 21,
   "metadata": {
    "ExecuteTime": {
     "end_time": "2020-05-05T11:53:57.180267Z",
     "start_time": "2020-05-05T11:53:57.152549Z"
    }
   },
   "outputs": [],
   "source": [
    "from sklearn.model_selection import train_test_split\n",
    "X = vec\n",
    "Y = LPC[\"波動(漲跌幅)\"]\n",
    "X_train, X_test, Y_train, Y_test = train_test_split(X, Y, test_size = 0.2, random_state = 0)"
   ]
  },
  {
   "cell_type": "markdown",
   "metadata": {},
   "source": [
    "* 針對文字矩陣，我們試用Variance Threshold刪除掉變異數過小的特徵值，降低維度"
   ]
  },
  {
   "cell_type": "markdown",
   "metadata": {},
   "source": [
    "### Logistic Regression"
   ]
  },
  {
   "cell_type": "code",
   "execution_count": 22,
   "metadata": {
    "ExecuteTime": {
     "end_time": "2020-05-07T07:41:38.004714Z",
     "start_time": "2020-05-07T07:41:37.488799Z"
    },
    "scrolled": true
   },
   "outputs": [
    {
     "name": "stdout",
     "output_type": "stream",
     "text": [
      "Accuracy： 0.7523364485981309\n",
      "Recall： 0.4782608695652174\n",
      "Precision： 0.66\n"
     ]
    },
    {
     "data": {
      "text/plain": [
       "array([[128,  17],\n",
       "       [ 36,  33]])"
      ]
     },
     "execution_count": 22,
     "metadata": {},
     "output_type": "execute_result"
    }
   ],
   "source": [
    "from sklearn.linear_model import LogisticRegression\n",
    "lr = LogisticRegression(penalty = \"l2\", solver = \"lbfgs\", max_iter = 100, random_state = 101)\n",
    "lr.fit(X_train, Y_train)\n",
    "y_pred = lr.predict(X_test)\n",
    "\n",
    "from sklearn.metrics import accuracy_score, confusion_matrix, recall_score, precision_score\n",
    "print(\"Accuracy：\",accuracy_score(Y_test, y_pred))\n",
    "print(\"Recall：\", recall_score(Y_test, y_pred))\n",
    "print(\"Precision：\", precision_score(Y_test, y_pred))\n",
    "confusion_matrix(Y_test, y_pred)"
   ]
  },
  {
   "cell_type": "markdown",
   "metadata": {},
   "source": [
    "### KNN"
   ]
  },
  {
   "cell_type": "code",
   "execution_count": 23,
   "metadata": {
    "ExecuteTime": {
     "end_time": "2020-05-07T07:41:44.151950Z",
     "start_time": "2020-05-07T07:41:43.091934Z"
    }
   },
   "outputs": [
    {
     "name": "stdout",
     "output_type": "stream",
     "text": [
      "0.0    201\n",
      "1.0     13\n",
      "Name: 0, dtype: int64\n",
      "Accuracy： 0.7009345794392523\n",
      "Recall： 0.13043478260869565\n",
      "Precision： 0.6923076923076923\n"
     ]
    },
    {
     "data": {
      "text/plain": [
       "array([[141,   4],\n",
       "       [ 60,   9]])"
      ]
     },
     "execution_count": 23,
     "metadata": {},
     "output_type": "execute_result"
    }
   ],
   "source": [
    "from sklearn.neighbors import KNeighborsClassifier\n",
    "knn = KNeighborsClassifier(n_neighbors=10)\n",
    "knn.fit(X_train, Y_train)\n",
    "y_pred = knn.predict(X_test)\n",
    "\n",
    "print(pd.DataFrame(y_pred).iloc[:, 0].value_counts())\n",
    "\n",
    "from sklearn.metrics import accuracy_score, confusion_matrix, recall_score, precision_score\n",
    "print(\"Accuracy：\",accuracy_score(Y_test, y_pred))\n",
    "print(\"Recall：\", recall_score(Y_test, y_pred))\n",
    "print(\"Precision：\", precision_score(Y_test, y_pred))\n",
    "confusion_matrix(Y_test, y_pred)"
   ]
  },
  {
   "cell_type": "markdown",
   "metadata": {},
   "source": [
    "### SVM"
   ]
  },
  {
   "cell_type": "code",
   "execution_count": 24,
   "metadata": {
    "ExecuteTime": {
     "end_time": "2020-05-07T07:41:49.976105Z",
     "start_time": "2020-05-07T07:41:46.088553Z"
    }
   },
   "outputs": [
    {
     "name": "stdout",
     "output_type": "stream",
     "text": [
      "0.0    201\n",
      "1.0     13\n",
      "Name: 0, dtype: int64\n",
      "Accuracy： 0.7383177570093458\n",
      "Recall： 0.18840579710144928\n",
      "Precision： 1.0\n"
     ]
    },
    {
     "data": {
      "text/plain": [
       "array([[145,   0],\n",
       "       [ 56,  13]])"
      ]
     },
     "execution_count": 24,
     "metadata": {},
     "output_type": "execute_result"
    }
   ],
   "source": [
    "from sklearn.svm import SVC\n",
    "svc = SVC(C = 1, kernel = \"rbf\", gamma = \"scale\", random_state = 101)\n",
    "svc.fit(X_train, Y_train)\n",
    "y_pred = svc.predict(X_test)\n",
    "\n",
    "print(pd.DataFrame(y_pred).iloc[:, 0].value_counts())\n",
    "\n",
    "from sklearn.metrics import accuracy_score, confusion_matrix, recall_score, precision_score\n",
    "print(\"Accuracy：\",accuracy_score(Y_test, y_pred))\n",
    "print(\"Recall：\", recall_score(Y_test, y_pred))\n",
    "print(\"Precision：\", precision_score(Y_test, y_pred))\n",
    "confusion_matrix(Y_test, y_pred)"
   ]
  },
  {
   "cell_type": "markdown",
   "metadata": {},
   "source": [
    "### Decision Tree"
   ]
  },
  {
   "cell_type": "code",
   "execution_count": 25,
   "metadata": {
    "ExecuteTime": {
     "end_time": "2020-05-07T07:41:54.852522Z",
     "start_time": "2020-05-07T07:41:52.954634Z"
    }
   },
   "outputs": [
    {
     "name": "stdout",
     "output_type": "stream",
     "text": [
      "0.0    134\n",
      "1.0     80\n",
      "Name: 0, dtype: int64\n",
      "Accuracy： 0.6308411214953271\n",
      "Recall： 0.5072463768115942\n",
      "Precision： 0.4375\n"
     ]
    },
    {
     "data": {
      "text/plain": [
       "array([[100,  45],\n",
       "       [ 34,  35]])"
      ]
     },
     "execution_count": 25,
     "metadata": {},
     "output_type": "execute_result"
    }
   ],
   "source": [
    "from sklearn.tree import DecisionTreeClassifier\n",
    "dtc = DecisionTreeClassifier(criterion = \"gini\", random_state = 101)\n",
    "dtc.fit(X_train, Y_train)\n",
    "y_pred = dtc.predict(X_test)\n",
    "\n",
    "print(pd.DataFrame(y_pred).iloc[:, 0].value_counts())\n",
    "\n",
    "from sklearn.metrics import accuracy_score, confusion_matrix, recall_score, precision_score\n",
    "print(\"Accuracy：\",accuracy_score(Y_test, y_pred))\n",
    "print(\"Recall：\", recall_score(Y_test, y_pred))\n",
    "print(\"Precision：\", precision_score(Y_test, y_pred))\n",
    "confusion_matrix(Y_test, y_pred)"
   ]
  },
  {
   "cell_type": "markdown",
   "metadata": {},
   "source": [
    "### Random Forest"
   ]
  },
  {
   "cell_type": "code",
   "execution_count": 26,
   "metadata": {
    "ExecuteTime": {
     "end_time": "2020-05-07T07:41:59.195084Z",
     "start_time": "2020-05-07T07:41:57.424029Z"
    }
   },
   "outputs": [
    {
     "name": "stdout",
     "output_type": "stream",
     "text": [
      "0.0    134\n",
      "1.0     80\n",
      "Name: 0, dtype: int64\n",
      "Accuracy： 0.6682242990654206\n",
      "Recall： 0.5652173913043478\n",
      "Precision： 0.4875\n"
     ]
    },
    {
     "data": {
      "text/plain": [
       "array([[104,  41],\n",
       "       [ 30,  39]])"
      ]
     },
     "execution_count": 26,
     "metadata": {},
     "output_type": "execute_result"
    }
   ],
   "source": [
    "from sklearn.ensemble import RandomForestClassifier\n",
    "rfc = RandomForestClassifier(n_estimators = 100, criterion = \"gini\", random_state = 101)\n",
    "rfc.fit(X_train, Y_train)\n",
    "y_pred = rfc.predict(X_test)\n",
    "\n",
    "print(pd.DataFrame(y_pred).iloc[:, 0].value_counts())\n",
    "\n",
    "from sklearn.metrics import accuracy_score, confusion_matrix, recall_score, precision_score\n",
    "print(\"Accuracy：\",accuracy_score(Y_test, y_pred))\n",
    "print(\"Recall：\", recall_score(Y_test, y_pred))\n",
    "print(\"Precision：\", precision_score(Y_test, y_pred))\n",
    "confusion_matrix(Y_test, y_pred)"
   ]
  },
  {
   "cell_type": "markdown",
   "metadata": {},
   "source": [
    "* 在沒有降維的情況下，準確度最高的是Logistic和Random Foreset，準確度約7成，接著我們嘗試用Variance Threshold做feature selection降低維度，通過對dataframe做describe可以找出變異數的最大與最小值落在(0.046, 0)，所以我們會針對這個區間內的值做微調，找出最佳維度"
   ]
  },
  {
   "cell_type": "code",
   "execution_count": 27,
   "metadata": {
    "ExecuteTime": {
     "end_time": "2020-05-07T07:50:34.925995Z",
     "start_time": "2020-05-07T07:50:20.527152Z"
    }
   },
   "outputs": [
    {
     "name": "stderr",
     "output_type": "stream",
     "text": [
      "05/11/2020 20:03:39 - INFO - numexpr.utils - NumExpr defaulting to 4 threads.\n"
     ]
    }
   ],
   "source": [
    "var_max = max((vec.describe().iloc[2, :]) ** 2)\n",
    "var_min = min((vec.describe().iloc[2, :]) ** 2)"
   ]
  },
  {
   "cell_type": "code",
   "execution_count": 28,
   "metadata": {
    "ExecuteTime": {
     "end_time": "2020-05-07T07:51:49.082925Z",
     "start_time": "2020-05-07T07:51:49.059130Z"
    }
   },
   "outputs": [
    {
     "data": {
      "text/plain": [
       "array([0.   , 0.002, 0.004, 0.006, 0.008, 0.01 , 0.012, 0.014, 0.016,\n",
       "       0.018, 0.02 , 0.022, 0.024, 0.026, 0.028, 0.03 , 0.032, 0.034,\n",
       "       0.036, 0.038, 0.04 , 0.042, 0.044, 0.046, 0.048, 0.05 , 0.052,\n",
       "       0.054, 0.056, 0.058, 0.06 , 0.062, 0.064, 0.066, 0.068, 0.07 ,\n",
       "       0.072, 0.074, 0.076, 0.078, 0.08 , 0.082, 0.084, 0.086, 0.088,\n",
       "       0.09 , 0.092, 0.094, 0.096, 0.098, 0.1  , 0.102, 0.104, 0.106,\n",
       "       0.108, 0.11 , 0.112, 0.114, 0.116, 0.118, 0.12 , 0.122, 0.124,\n",
       "       0.126, 0.128, 0.13 , 0.132, 0.134])"
      ]
     },
     "execution_count": 28,
     "metadata": {},
     "output_type": "execute_result"
    }
   ],
   "source": [
    "np.arange(var_min, var_max, 0.002)"
   ]
  },
  {
   "cell_type": "code",
   "execution_count": 29,
   "metadata": {
    "ExecuteTime": {
     "end_time": "2020-05-07T08:23:53.813811Z",
     "start_time": "2020-05-07T08:23:53.794119Z"
    }
   },
   "outputs": [],
   "source": [
    "from sklearn.linear_model import LogisticRegression\n",
    "from sklearn.neighbors import KNeighborsClassifier\n",
    "from sklearn.tree import DecisionTreeClassifier\n",
    "from sklearn.svm import SVC\n",
    "from sklearn.ensemble import RandomForestClassifier\n",
    "\n",
    "lr = LogisticRegression(penalty = \"l2\", solver = \"lbfgs\", max_iter = 100, random_state = 101)\n",
    "knn = KNeighborsClassifier(n_neighbors = 10)\n",
    "svc = SVC(C = 1, kernel = \"rbf\", gamma = \"scale\", random_state = 101)\n",
    "dtc = DecisionTreeClassifier(criterion = \"gini\", random_state = 101)\n",
    "rfc = RandomForestClassifier(n_estimators = 100, criterion = \"gini\", random_state = 101)\n",
    "\n",
    "def ModelAccuracy(X_train, X_test, Y_train, Y_test):\n",
    "    lr.fit(X_train, Y_train)\n",
    "    knn.fit(X_train, Y_train)\n",
    "    svc.fit(X_train, Y_train)\n",
    "    dtc.fit(X_train, Y_train)\n",
    "    rfc.fit(X_train, Y_train)\n",
    "    \n",
    "    LR_acc = accuracy_score(Y_test, lr.predict(X_test))\n",
    "    KNN_acc = accuracy_score(Y_test, knn.predict(X_test))\n",
    "    SVC_acc = accuracy_score(Y_test, svc.predict(X_test))\n",
    "    DTC_acc = accuracy_score(Y_test, dtc.predict(X_test))\n",
    "    RFC_acc = accuracy_score(Y_test, rfc.predict(X_test))         \n",
    "    \n",
    "    return LR_acc, KNN_acc, SVC_acc, DTC_acc, RFC_acc"
   ]
  },
  {
   "cell_type": "code",
   "execution_count": 79,
   "metadata": {
    "ExecuteTime": {
     "end_time": "2020-05-07T08:28:37.358330Z",
     "start_time": "2020-05-07T08:28:26.938859Z"
    }
   },
   "outputs": [
    {
     "name": "stdout",
     "output_type": "stream",
     "text": [
      "Logistic Regression Dimension: 330 Accuracy: 0.7616822429906542\n",
      "KNN Dimension: 46 Accuracy: 0.705607476635514\n",
      "SVM Dimension: 245 Accuracy: 0.7383177570093458\n",
      "Decision Tree Dimension: 28 Accuracy: 0.6962616822429907\n",
      "Random Forest: Dimension = 28 , Accuracy = 0.7102803738317757\n"
     ]
    }
   ],
   "source": [
    "from sklearn.feature_selection import VarianceThreshold\n",
    "from sklearn.model_selection import train_test_split\n",
    "\n",
    "LR_Best_Dimension = 3000\n",
    "LR_Best_Score = 0\n",
    "KNN_Best_Dimension = 3000\n",
    "KNN_Best_Score = 0\n",
    "SVC_Best_Dimension = 3000\n",
    "SVC_Best_Score = 0\n",
    "DTC_Best_Dimension = 3000\n",
    "DTC_Best_Score = 0\n",
    "RFC_Best_Dimension = 3000\n",
    "RFC_Best_Score = 0\n",
    "\n",
    "for i in np.arange(var_min, var_max, 0.002):\n",
    "    vt = VarianceThreshold(threshold = i)\n",
    "    vt_vec = vt.fit_transform(vec)\n",
    "    \n",
    "    X = vt_vec\n",
    "    Y = LPC[\"波動(漲跌幅)\"]\n",
    "    X_train, X_test, Y_train, Y_test = train_test_split(X, Y, test_size = 0.2, random_state = 0)\n",
    "    \n",
    "    LR_acc, KNN_acc, SVC_acc, DTC_acc, RFC_acc = ModelAccuracy(X_train, X_test, Y_train, Y_test)\n",
    "    if  LR_acc >= LR_Best_Score:\n",
    "        LR_Best_Score = LR_acc\n",
    "        LR_Best_Dimension = vt_vec.shape[1]\n",
    "    if  KNN_acc >= KNN_Best_Score:\n",
    "        KNN_Best_Score = KNN_acc\n",
    "        KNN_Best_Dimension = vt_vec.shape[1]\n",
    "    if  SVC_acc >= SVC_Best_Score:\n",
    "        SVC_Best_Score = SVC_acc\n",
    "        SVC_Best_Dimension = vt_vec.shape[1]\n",
    "    if  DTC_acc >= DTC_Best_Score:\n",
    "        DTC_Best_Score = DTC_acc\n",
    "        DTC_Best_Dimension = vt_vec.shape[1]\n",
    "    if  RFC_acc >= RFC_Best_Score:\n",
    "        RFC_Best_Score = RFC_acc\n",
    "        RFC_Best_Dimension = vt_vec.shape[1]\n",
    "        \n",
    "print(\"Logistic Regression Dimension:\", LR_Best_Dimension, \"Accuracy:\", LR_Best_Score)\n",
    "print(\"KNN Dimension:\", KNN_Best_Dimension, \"Accuracy:\", KNN_Best_Score)\n",
    "print(\"SVM Dimension:\", SVC_Best_Dimension, \"Accuracy:\", SVC_Best_Score)\n",
    "print(\"Decision Tree Dimension:\", DTC_Best_Dimension, \"Accuracy:\", DTC_Best_Score)\n",
    "print(\"Random Forest: Dimension =\", RFC_Best_Dimension, \", Accuracy =\", RFC_Best_Score)"
   ]
  },
  {
   "cell_type": "markdown",
   "metadata": {},
   "source": [
    "* 結論來看，Random Forest還是有最佳的準確度，且相對於其他模型能夠使用更高維度的資料（因為Random Forest本身就有降維的作用，所以這樣的結果也算合理）"
   ]
  },
  {
   "cell_type": "code",
   "execution_count": null,
   "metadata": {},
   "outputs": [],
   "source": []
  },
  {
   "cell_type": "markdown",
   "metadata": {},
   "source": []
  }
 ],
 "metadata": {
  "kernelspec": {
   "display_name": "Python 3",
   "language": "python",
   "name": "python3"
  },
  "language_info": {
   "codemirror_mode": {
    "name": "ipython",
    "version": 3
   },
   "file_extension": ".py",
   "mimetype": "text/x-python",
   "name": "python",
   "nbconvert_exporter": "python",
   "pygments_lexer": "ipython3",
   "version": "3.7.5"
  }
 },
 "nbformat": 4,
 "nbformat_minor": 2
}
